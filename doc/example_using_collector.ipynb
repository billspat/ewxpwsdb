{
 "cells": [
  {
   "cell_type": "markdown",
   "metadata": {},
   "source": [
    "## Using the EWXPWSDB Collector Class\n",
    "\n",
    "# <span style=\"color:red\">clear all output before saving: db output contains passwords! </span>\n",
    "\n",
    "this walks through process of\n",
    "\n",
    "- creating a temporary DB\n",
    "- using the collector class for existing station records to\n",
    "    - get past data \n",
    "    - pull data for short period, e.g. from a scheduler\n",
    "    - get all recent data, aka catch up data from last record\n"
   ]
  },
  {
   "cell_type": "code",
   "execution_count": null,
   "metadata": {},
   "outputs": [],
   "source": [
    "%load_ext autoreload\n",
    "%autoreload 2"
   ]
  },
  {
   "cell_type": "markdown",
   "metadata": {},
   "source": [
    "## Constants/Config"
   ]
  },
  {
   "cell_type": "code",
   "execution_count": null,
   "metadata": {},
   "outputs": [],
   "source": [
    "\n",
    "station_file = '../data/test_stations.tsv'\n",
    "station_type = 'DAVIS'"
   ]
  },
  {
   "cell_type": "code",
   "execution_count": null,
   "metadata": {},
   "outputs": [],
   "source": [
    "\n",
    "from ewxpwsdb.db.database import Session, init_db, get_db_url, get_engine\n",
    "from ewxpwsdb.db.models import WeatherStation, Reading, StationType, APIResponse\n",
    "from ewxpwsdb.db.importdata import import_station_file\n",
    "from ewxpwsdb.collector import Collector\n",
    "from ewxpwsdb.time_intervals import UTCInterval\n",
    "from sqlmodel import select"
   ]
  },
  {
   "cell_type": "markdown",
   "metadata": {},
   "source": [
    "## create engine temp sqlite database"
   ]
  },
  {
   "cell_type": "code",
   "execution_count": null,
   "metadata": {},
   "outputs": [],
   "source": [
    "# this notebook does not use the .env file or the get_db_url() function for the app's db, \n",
    "# instead it creates a new file to be used for a temporary, empty sqlite database, deleted in the end. \n",
    "from tempfile import NamedTemporaryFile\n",
    "\n",
    "temp_sqlitefile = NamedTemporaryFile(suffix = '.db')\n",
    "temp_db_url = f\"sqlite:///{temp_sqlitefile.name}\"\n",
    "engine = get_engine(db_url=temp_db_url)\n",
    "print(engine)\n",
    "init_db(engine)\n",
    "import_station_file(station_file, engine = engine)\n"
   ]
  },
  {
   "cell_type": "code",
   "execution_count": null,
   "metadata": {},
   "outputs": [],
   "source": [
    "def get_one_station(station_type, engine=engine):\n",
    "    \"\"\" global engine is default\"\"\"\n",
    "    with Session(engine) as session:\n",
    "        statement = select(WeatherStation).where(WeatherStation.station_type == station_type)\n",
    "        results = session.exec(statement)\n",
    "        weather_station = results.first()\n",
    "\n",
    "    return weather_station"
   ]
  },
  {
   "cell_type": "code",
   "execution_count": null,
   "metadata": {},
   "outputs": [],
   "source": [
    "station = get_one_station(station_type, engine)\n",
    "print(station.station_code)\n"
   ]
  },
  {
   "cell_type": "code",
   "execution_count": null,
   "metadata": {},
   "outputs": [],
   "source": [
    "with Session(engine) as session:\n",
    "    all_stations = session.exec(select(WeatherStation)).fetchall()\n",
    "\n",
    "for station in all_stations:\n",
    "    print(f\"{station.station_code}: {station.station_type}\")\n"
   ]
  },
  {
   "cell_type": "code",
   "execution_count": null,
   "metadata": {},
   "outputs": [],
   "source": [
    "\n",
    "\n"
   ]
  },
  {
   "cell_type": "code",
   "execution_count": null,
   "metadata": {},
   "outputs": [],
   "source": [
    "print(engine)"
   ]
  },
  {
   "cell_type": "code",
   "execution_count": null,
   "metadata": {},
   "outputs": [],
   "source": [
    "collector = Collector(station, engine)\n",
    "collector.weather_api"
   ]
  },
  {
   "cell_type": "code",
   "execution_count": null,
   "metadata": {},
   "outputs": [],
   "source": [
    "collector._session.commit()"
   ]
  },
  {
   "cell_type": "code",
   "execution_count": null,
   "metadata": {},
   "outputs": [],
   "source": [
    "from datetime import timedelta\n",
    "interval = UTCInterval.previous_fifteen_minutes()\n",
    "\n",
    "interval.start = interval.start - timedelta(hours = 2)\n",
    "interval.end = interval.end - timedelta(hours = 1)\n",
    "interval"
   ]
  },
  {
   "cell_type": "code",
   "execution_count": null,
   "metadata": {},
   "outputs": [],
   "source": [
    "# call the method to see if it's working\n",
    "somerex = collector.request_and_store_weather_data_utc(interval)\n",
    "somerex"
   ]
  },
  {
   "cell_type": "code",
   "execution_count": null,
   "metadata": {},
   "outputs": [],
   "source": [
    "collector.current_responses"
   ]
  },
  {
   "cell_type": "code",
   "execution_count": null,
   "metadata": {},
   "outputs": [],
   "source": [
    "collector.current_readings"
   ]
  },
  {
   "cell_type": "markdown",
   "metadata": {},
   "source": [
    "### Clean up\n",
    "\n",
    "remove test database"
   ]
  },
  {
   "cell_type": "code",
   "execution_count": null,
   "metadata": {},
   "outputs": [],
   "source": [
    "if collector:\n",
    "    collector._session.close()\n",
    "    collector._engine.dispose()\n",
    "\n",
    "session.close\n",
    "engine.dispose()\n",
    "\n",
    "temp_sqlitefile.close()\n",
    "collector = None\n"
   ]
  }
 ],
 "metadata": {
  "kernelspec": {
   "display_name": "ewxpwsdb-Ylvp0c_2-py3.11",
   "language": "python",
   "name": "python3"
  },
  "language_info": {
   "codemirror_mode": {
    "name": "ipython",
    "version": 3
   },
   "file_extension": ".py",
   "mimetype": "text/x-python",
   "name": "python",
   "nbconvert_exporter": "python",
   "pygments_lexer": "ipython3",
   "version": "3.11.7"
  }
 },
 "nbformat": 4,
 "nbformat_minor": 2
}
