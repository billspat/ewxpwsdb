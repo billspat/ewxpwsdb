{
 "cells": [
  {
   "cell_type": "markdown",
   "metadata": {},
   "source": [
    "## Using the EWXPWSDB Collector Class\n",
    "\n",
    "# <span style=\"color:red\">clear all output before saving: db output contains passwords! </span>\n",
    "\n",
    "this walks through process of\n",
    "\n",
    "- creating a temporary DB\n",
    "- using the collector class for existing station records to\n",
    "    - get past data \n",
    "    - pull data for short period, e.g. from a scheduler\n",
    "    - get all recent data, aka catch up data from last record\n"
   ]
  },
  {
   "cell_type": "code",
   "execution_count": 1,
   "metadata": {},
   "outputs": [],
   "source": [
    "%load_ext autoreload\n",
    "%autoreload 2"
   ]
  },
  {
   "cell_type": "markdown",
   "metadata": {},
   "source": [
    "## Constants/Config"
   ]
  },
  {
   "cell_type": "code",
   "execution_count": 2,
   "metadata": {},
   "outputs": [],
   "source": [
    "\n",
    "station_file = '../data/test_stations.tsv'\n",
    "station_type = 'DAVIS'\n",
    "station_code = 'EWXDAVIS01' "
   ]
  },
  {
   "cell_type": "code",
   "execution_count": 3,
   "metadata": {},
   "outputs": [],
   "source": [
    "\n",
    "from ewxpwsdb.db.database import Session, init_db, get_db_url, get_engine\n",
    "from ewxpwsdb.db.models import WeatherStation, Reading, StationType, APIResponse\n",
    "from ewxpwsdb.db.importdata import import_station_file\n",
    "from ewxpwsdb.collector import Collector\n",
    "from ewxpwsdb.time_intervals import UTCInterval\n",
    "from sqlmodel import select"
   ]
  },
  {
   "cell_type": "markdown",
   "metadata": {},
   "source": [
    "## create engine temp database"
   ]
  },
  {
   "cell_type": "code",
   "execution_count": 4,
   "metadata": {},
   "outputs": [
    {
     "name": "stdout",
     "output_type": "stream",
     "text": [
      "notebook_testing_v0ojm4lmvk\n",
      "Station with type 'DAVIS' merged into the database\n",
      "Station with type 'LOCOMOS' merged into the database\n",
      "Station with type 'ONSET' merged into the database\n",
      "Station with type 'RAINWISE' merged into the database\n",
      "Station with type 'SPECTRUM' merged into the database\n",
      "Station with type 'ZENTRA' merged into the database\n"
     ]
    }
   ],
   "source": [
    "from ewxpwsdb.db.database import create_temp_pg_engine, get_db_url, init_db, Session\n",
    "from ewxpwsdb.db.models import WeatherStation # , Reading, StationType, APIResponse\n",
    "\n",
    "engine = create_temp_pg_engine(get_db_url(), name_prefix = 'notebook_testing')\n",
    "\n",
    "temp_db_url = engine.url\n",
    "print(temp_db_url.database)\n",
    "init_db(engine,station_file)"
   ]
  },
  {
   "cell_type": "code",
   "execution_count": 5,
   "metadata": {},
   "outputs": [],
   "source": [
    "def get_one_station(station_type, station_code = None, engine=engine):\n",
    "    \"\"\" global engine is default\"\"\"\n",
    "\n",
    "    if station_code:\n",
    "        statement = select(WeatherStation).where(WeatherStation.station_code == station_code)\n",
    "    else:\n",
    "        statement = select(WeatherStation).where(WeatherStation.station_type == station_type)\n",
    "\n",
    "    with Session(engine) as session:\n",
    "        results = session.exec(statement)\n",
    "        weather_station = results.first()\n",
    "\n",
    "    return weather_station"
   ]
  },
  {
   "cell_type": "code",
   "execution_count": 6,
   "metadata": {},
   "outputs": [
    {
     "name": "stdout",
     "output_type": "stream",
     "text": [
      "EWXDAVIS01\n"
     ]
    }
   ],
   "source": [
    "station = get_one_station(station_type, station_code, engine)\n",
    "print(station.station_code)\n"
   ]
  },
  {
   "cell_type": "code",
   "execution_count": 7,
   "metadata": {},
   "outputs": [
    {
     "data": {
      "text/plain": [
       "<ewxpwsdb.weather_apis.davis_api.DavisAPI at 0x1318d26d0>"
      ]
     },
     "execution_count": 7,
     "metadata": {},
     "output_type": "execute_result"
    }
   ],
   "source": [
    "collector = Collector(station, engine)\n",
    "collector.weather_api"
   ]
  },
  {
   "cell_type": "code",
   "execution_count": 8,
   "metadata": {},
   "outputs": [],
   "source": [
    "collector._session.commit()"
   ]
  },
  {
   "cell_type": "code",
   "execution_count": 9,
   "metadata": {},
   "outputs": [
    {
     "data": {
      "text/plain": [
       "UTCInterval(start=datetime.datetime(2024, 6, 30, 10, 20, tzinfo=datetime.timezone.utc), end=datetime.datetime(2024, 6, 30, 11, 30, tzinfo=datetime.timezone.utc))"
      ]
     },
     "execution_count": 9,
     "metadata": {},
     "output_type": "execute_result"
    }
   ],
   "source": [
    "from datetime import timedelta\n",
    "from ewxpwsdb.time_intervals import UTCInterval\n",
    "duration_min = 70\n",
    "viable_interval = UTCInterval.previous_interval(delta_mins=duration_min)\n",
    "yesterday = UTCInterval(start=viable_interval.start - timedelta(days = 1), \n",
    "                           end = viable_interval.end - timedelta(days = 1)\n",
    "                           )\n",
    "yesterday"
   ]
  },
  {
   "cell_type": "code",
   "execution_count": 10,
   "metadata": {},
   "outputs": [
    {
     "data": {
      "text/plain": [
       "UTCInterval(start=datetime.datetime(2024, 7, 1, 10, 16, tzinfo=datetime.timezone.utc), end=datetime.datetime(2024, 7, 1, 11, 0, tzinfo=datetime.timezone.utc))"
      ]
     },
     "execution_count": 10,
     "metadata": {},
     "output_type": "execute_result"
    }
   ],
   "source": [
    "from datetime import timedelta\n",
    "from ewxpwsdb.time_intervals import previous_fourteen_minute_interval\n",
    "\n",
    "interval = previous_fourteen_minute_interval()\n",
    "\n",
    "interval.start = interval.start - timedelta(hours = 1)\n",
    "interval.end = interval.end - timedelta(hours = 0.5)\n",
    "interval"
   ]
  },
  {
   "cell_type": "code",
   "execution_count": 11,
   "metadata": {},
   "outputs": [
    {
     "data": {
      "text/plain": [
       "UTCInterval(start=datetime.datetime(2024, 6, 30, 0, 0, tzinfo=datetime.timezone.utc), end=datetime.datetime(2024, 7, 1, 11, 30, tzinfo=datetime.timezone.utc))"
      ]
     },
     "execution_count": 11,
     "metadata": {},
     "output_type": "execute_result"
    }
   ],
   "source": [
    "today_interval = UTCInterval.one_day_interval()  # this defaults to getting the time range from midnight to now\n",
    "two_day_interval = UTCInterval(start = (today_interval.start - timedelta(days = 1)), end = today_interval.end)\n",
    "two_day_interval"
   ]
  },
  {
   "cell_type": "code",
   "execution_count": 12,
   "metadata": {},
   "outputs": [
    {
     "data": {
      "text/plain": [
       "[1]"
      ]
     },
     "execution_count": 12,
     "metadata": {},
     "output_type": "execute_result"
    }
   ],
   "source": [
    "from datetime import datetime, timezone\n",
    "today_utc = datetime.now(timezone.utc).date()\n",
    "\n",
    "collector.request_and_store_weather_data_utc(UTCInterval.one_day_interval(d = today_utc- timedelta(days = 1)))"
   ]
  },
  {
   "cell_type": "code",
   "execution_count": 13,
   "metadata": {},
   "outputs": [
    {
     "data": {
      "text/plain": [
       "[Reading(apiresponse_id=1, station_sampling_interval=5, lws=0.0, wdir=0.0, request_id='51f0eaef-ed51-4733-a8ce-76d6d93d2169', pcpn=0.0, wspd=6.0, weatherstation_id=2, relh=54.0, wspd_max=12.0, rpet=None, atmp=19.78, smst=27.97621, atmp_min=19.72, stmp=22.63, data_datetime=datetime.datetime(2024, 7, 1, 3, 55, tzinfo=datetime.timezone.utc), atmp_max=19.78, srad=187.0, id=287, dwpt=10.2)]"
      ]
     },
     "execution_count": 13,
     "metadata": {},
     "output_type": "execute_result"
    }
   ],
   "source": [
    "collector.get_readings(1)"
   ]
  },
  {
   "cell_type": "code",
   "execution_count": 14,
   "metadata": {},
   "outputs": [
    {
     "data": {
      "text/plain": [
       "[2]"
      ]
     },
     "execution_count": 14,
     "metadata": {},
     "output_type": "execute_result"
    }
   ],
   "source": [
    "# call the method to see if it's working\n",
    "somerex = collector.request_and_store_weather_data_utc(interval)\n",
    "somerex"
   ]
  },
  {
   "cell_type": "code",
   "execution_count": 15,
   "metadata": {},
   "outputs": [
    {
     "data": {
      "text/plain": [
       "[2]"
      ]
     },
     "execution_count": 15,
     "metadata": {},
     "output_type": "execute_result"
    }
   ],
   "source": [
    "# are api response ids being saved in the object?\n",
    "\n",
    "collector.current_api_response_record_ids"
   ]
  },
  {
   "cell_type": "code",
   "execution_count": 16,
   "metadata": {},
   "outputs": [
    {
     "name": "stdout",
     "output_type": "stream",
     "text": [
      "2\n"
     ]
    },
    {
     "data": {
      "text/plain": [
       "APIResponse(response_text='{\"station_id_uuid\":\"ed88c104-36a4-4244-ad3f-7f048dfa5a50\",\"sensors\":[{\"lsid\":434004,\"data\":[{\"noise_floor_rssi\":-109,\"port_energy_consumed_4\":0,\"port_energy_consumed_3\":0,\"port_energy_consumed_2\":0,\"bluetooth_firmware_version\":null,\"beacon_interval\":2097,\"port_energy_consumed_1\":0,\"tz_offset\":-14400,\"door_switch_status\":0,\"link_layer_packets_received\":155,\"solar_panel_voltage\":1204,\"rank\":512,\"health_version\":1,\"false_wakeup_rssi\":-52,\"inside_box_temp\":46.846924,\"dcell_battery_voltage\":5747,\"power_percentage_tx\":0,\"last_rx_rssi\":-33,\"power_percentage_mcu\":6,\"application_firmware_version\":1620422234,\"false_wakeup_count\":440,\"etx\":256,\"rpl_mode\":0,\"uptime\":76006125,\"number_of_neighbors\":1,\"last_parent_rtt_ping\":0,\"li_ion_cell_voltage\":3955,\"platform_id\":3,\"power_percentage_rx\":2,\"rpl_parent_node_id\":8426185,\"ts\":1719829800},{\"noise_floor_rssi\":-85,\"port_energy_consumed_4\":0,\"port_energy_consumed_3\":0,\"port_energy_consumed_2\":0,\"bluetooth_firmware_version\":null,\"beacon_interval\":2097,\"port_energy_consumed_1\":0,\"tz_offset\":-14400,\"door_switch_status\":0,\"link_layer_packets_received\":163,\"solar_panel_voltage\":1325,\"rank\":568,\"health_version\":1,\"false_wakeup_rssi\":-69,\"inside_box_temp\":47.539062,\"dcell_battery_voltage\":5752,\"power_percentage_tx\":0,\"last_rx_rssi\":-29,\"power_percentage_mcu\":5,\"application_firmware_version\":1620422234,\"false_wakeup_count\":466,\"etx\":306,\"rpl_mode\":0,\"uptime\":76007025,\"number_of_neighbors\":1,\"last_parent_rtt_ping\":0,\"li_ion_cell_voltage\":3955,\"platform_id\":3,\"power_percentage_rx\":2,\"rpl_parent_node_id\":8426185,\"ts\":1719830700},{\"noise_floor_rssi\":-110,\"port_energy_consumed_4\":0,\"port_energy_consumed_3\":0,\"port_energy_consumed_2\":0,\"bluetooth_firmware_version\":null,\"beacon_interval\":2097,\"port_energy_consumed_1\":0,\"tz_offset\":-14400,\"door_switch_status\":0,\"link_layer_packets_received\":166,\"solar_panel_voltage\":1365,\"rank\":520,\"health_version\":1,\"false_wakeup_rssi\":-55,\"inside_box_temp\":48.725586,\"dcell_battery_voltage\":5747,\"power_percentage_tx\":0,\"last_rx_rssi\":-29,\"power_percentage_mcu\":5,\"application_firmware_version\":1620422234,\"false_wakeup_count\":400,\"etx\":264,\"rpl_mode\":0,\"uptime\":76007925,\"number_of_neighbors\":1,\"last_parent_rtt_ping\":0,\"li_ion_cell_voltage\":3955,\"platform_id\":3,\"power_percentage_rx\":2,\"rpl_parent_node_id\":8426185,\"ts\":1719831600}],\"sensor_type\":501,\"data_structure_type\":14},{\"lsid\":433997,\"data\":[{\"iss_reception\":100,\"wind_speed_avg\":0,\"uv_dose\":null,\"wind_speed_hi\":1,\"wind_dir_of_hi\":2,\"wind_chill\":48.7,\"solar_rad_hi\":11,\"deg_days_heat\":0.056597218,\"thw_index\":48.97,\"bar\":30.355,\"hum_out\":90,\"tz_offset\":-14400,\"uv_index_hi\":null,\"temp_out\":48.7,\"temp_out_lo\":48.6,\"wet_bulb\":47.282,\"temp_out_hi\":48.8,\"solar_rad_avg\":10,\"bar_alt\":30.355,\"arch_int\":300,\"wind_run\":0,\"solar_energy\":0.07170309,\"dew_point_out\":45.898254,\"rain_rate_hi_clicks\":0,\"wind_dir_of_prevail\":0,\"et\":0,\"air_density\":0.075959355,\"rainfall_in\":0,\"heat_index_out\":48.97,\"thsw_index\":47,\"rainfall_mm\":0,\"night_cloud_cover\":0,\"deg_days_cool\":0,\"rain_rate_hi_in\":0,\"uv_index_avg\":null,\"wind_num_samples\":117,\"emc\":20.45,\"rain_rate_hi_mm\":0,\"rev_type\":2,\"rainfall_clicks\":0,\"ts\":1719829200,\"abs_press\":29.424992},{\"iss_reception\":100,\"wind_speed_avg\":0,\"uv_dose\":null,\"wind_speed_hi\":0,\"wind_dir_of_hi\":null,\"wind_chill\":48.7,\"solar_rad_hi\":12,\"deg_days_heat\":0.056597218,\"thw_index\":48.97,\"bar\":30.359,\"hum_out\":90,\"tz_offset\":-14400,\"uv_index_hi\":null,\"temp_out\":48.7,\"temp_out_lo\":48.6,\"wet_bulb\":47.282,\"temp_out_hi\":48.8,\"solar_rad_avg\":11,\"bar_alt\":30.359,\"arch_int\":300,\"wind_run\":0,\"solar_energy\":0.0788734,\"dew_point_out\":45.898254,\"rain_rate_hi_clicks\":0,\"wind_dir_of_prevail\":null,\"et\":0,\"air_density\":0.07596953,\"rainfall_in\":0,\"heat_index_out\":48.97,\"thsw_index\":47,\"rainfall_mm\":0,\"night_cloud_cover\":0,\"deg_days_cool\":0,\"rain_rate_hi_in\":0,\"uv_index_avg\":null,\"wind_num_samples\":117,\"emc\":20.45,\"rain_rate_hi_mm\":0,\"rev_type\":2,\"rainfall_clicks\":0,\"ts\":1719829500,\"abs_press\":29.428892},{\"iss_reception\":100,\"wind_speed_avg\":0,\"uv_dose\":null,\"wind_speed_hi\":1,\"wind_dir_of_hi\":0,\"wind_chill\":48.7,\"solar_rad_hi\":14,\"deg_days_heat\":0.056597218,\"thw_index\":48.97,\"bar\":30.362,\"hum_out\":90,\"tz_offset\":-14400,\"uv_index_hi\":null,\"temp_out\":48.7,\"temp_out_lo\":48.6,\"wet_bulb\":47.282,\"temp_out_hi\":48.8,\"solar_rad_avg\":13,\"bar_alt\":30.362,\"arch_int\":300,\"wind_run\":0,\"solar_energy\":0.09321402,\"dew_point_out\":45.898254,\"rain_rate_hi_clicks\":0,\"wind_dir_of_prevail\":0,\"et\":0,\"air_density\":0.07597717,\"rainfall_in\":0,\"heat_index_out\":48.97,\"thsw_index\":47,\"rainfall_mm\":0,\"night_cloud_cover\":0,\"deg_days_cool\":0,\"rain_rate_hi_in\":0,\"uv_index_avg\":null,\"wind_num_samples\":118,\"emc\":20.45,\"rain_rate_hi_mm\":0,\"rev_type\":2,\"rainfall_clicks\":0,\"ts\":1719829800,\"abs_press\":29.431818},{\"iss_reception\":100,\"wind_speed_avg\":0,\"uv_dose\":null,\"wind_speed_hi\":0,\"wind_dir_of_hi\":null,\"wind_chill\":48.8,\"solar_rad_hi\":16,\"deg_days_heat\":0.056250002,\"thw_index\":49.079998,\"bar\":30.36,\"hum_out\":90,\"tz_offset\":-14400,\"uv_index_hi\":null,\"temp_out\":48.8,\"temp_out_lo\":48.7,\"wet_bulb\":47.3,\"temp_out_hi\":48.8,\"solar_rad_avg\":15,\"bar_alt\":30.36,\"arch_int\":300,\"wind_run\":0,\"solar_energy\":0.10755464,\"dew_point_out\":45.997025,\"rain_rate_hi_clicks\":0,\"wind_dir_of_prevail\":null,\"et\":0,\"air_density\":0.07595411,\"rainfall_in\":0,\"heat_index_out\":49.079998,\"thsw_index\":47,\"rainfall_mm\":0,\"night_cloud_cover\":0,\"deg_days_cool\":0,\"rain_rate_hi_in\":0,\"uv_index_avg\":null,\"wind_num_samples\":117,\"emc\":20.45,\"rain_rate_hi_mm\":0,\"rev_type\":2,\"rainfall_clicks\":0,\"ts\":1719830100,\"abs_press\":29.429869},{\"iss_reception\":100,\"wind_speed_avg\":0,\"uv_dose\":null,\"wind_speed_hi\":0,\"wind_dir_of_hi\":null,\"wind_chill\":49,\"solar_rad_hi\":18,\"deg_days_heat\":0.055555556,\"thw_index\":49.3,\"bar\":30.36,\"hum_out\":90,\"tz_offset\":-14400,\"uv_index_hi\":null,\"temp_out\":49,\"temp_out_lo\":48.8,\"wet_bulb\":47.48,\"temp_out_hi\":49.2,\"solar_rad_avg\":17,\"bar_alt\":30.36,\"arch_int\":300,\"wind_run\":0,\"solar_energy\":0.12189525,\"dew_point_out\":46.19457,\"rain_rate_hi_clicks\":0,\"wind_dir_of_prevail\":null,\"et\":0,\"air_density\":0.07591815,\"rainfall_in\":0,\"heat_index_out\":49.3,\"thsw_index\":47,\"rainfall_mm\":0,\"night_cloud_cover\":0,\"deg_days_cool\":0,\"rain_rate_hi_in\":0,\"uv_index_avg\":null,\"wind_num_samples\":117,\"emc\":20.45,\"rain_rate_hi_mm\":0,\"rev_type\":2,\"rainfall_clicks\":0,\"ts\":1719830400,\"abs_press\":29.429869},{\"iss_reception\":100,\"wind_speed_avg\":0,\"uv_dose\":null,\"wind_speed_hi\":1,\"wind_dir_of_hi\":0,\"wind_chill\":49.4,\"solar_rad_hi\":19,\"deg_days_heat\":0.05416666,\"thw_index\":49.66,\"bar\":30.36,\"hum_out\":89,\"tz_offset\":-14400,\"uv_index_hi\":null,\"temp_out\":49.4,\"temp_out_lo\":49.2,\"wet_bulb\":47.822,\"temp_out_hi\":49.6,\"solar_rad_avg\":19,\"bar_alt\":30.36,\"arch_int\":300,\"wind_run\":0,\"solar_energy\":0.13623588,\"dew_point_out\":46.293526,\"rain_rate_hi_clicks\":0,\"wind_dir_of_prevail\":0,\"et\":0,\"air_density\":0.075855434,\"rainfall_in\":0,\"heat_index_out\":49.66,\"thsw_index\":48,\"rainfall_mm\":0,\"night_cloud_cover\":0,\"deg_days_cool\":0,\"rain_rate_hi_in\":0,\"uv_index_avg\":null,\"wind_num_samples\":117,\"emc\":19.95,\"rain_rate_hi_mm\":0,\"rev_type\":2,\"rainfall_clicks\":0,\"ts\":1719830700,\"abs_press\":29.429869},{\"iss_reception\":100,\"wind_speed_avg\":0,\"uv_dose\":null,\"wind_speed_hi\":1,\"wind_dir_of_hi\":0,\"wind_chill\":49.7,\"solar_rad_hi\":26,\"deg_days_heat\":0.053124998,\"thw_index\":49.96,\"bar\":30.365,\"hum_out\":89,\"tz_offset\":-14400,\"uv_index_hi\":null,\"temp_out\":49.7,\"temp_out_lo\":49.5,\"wet_bulb\":48.02,\"temp_out_hi\":49.9,\"solar_rad_avg\":24,\"bar_alt\":30.365,\"arch_int\":300,\"wind_run\":0,\"solar_energy\":0.17208742,\"dew_point_out\":46.589443,\"rain_rate_hi_clicks\":0,\"wind_dir_of_prevail\":0,\"et\":0,\"air_density\":0.07581424,\"rainfall_in\":0,\"heat_index_out\":49.96,\"thsw_index\":48,\"rainfall_mm\":0,\"night_cloud_cover\":0,\"deg_days_cool\":0,\"rain_rate_hi_in\":0,\"uv_index_avg\":null,\"wind_num_samples\":117,\"emc\":19.95,\"rain_rate_hi_mm\":0,\"rev_type\":2,\"rainfall_clicks\":0,\"ts\":1719831000,\"abs_press\":29.434744},{\"iss_reception\":100,\"wind_speed_avg\":0,\"uv_dose\":null,\"wind_speed_hi\":1,\"wind_dir_of_hi\":0,\"wind_chill\":50,\"solar_rad_hi\":35,\"deg_days_heat\":0.052083332,\"thw_index\":50.22,\"bar\":30.367,\"hum_out\":88,\"tz_offset\":-14400,\"uv_index_hi\":null,\"temp_out\":50,\"temp_out_lo\":49.9,\"wet_bulb\":48.2,\"temp_out_hi\":50.1,\"solar_rad_avg\":32,\"bar_alt\":30.367,\"arch_int\":300,\"wind_run\":0,\"solar_energy\":0.2294499,\"dew_point_out\":46.585503,\"rain_rate_hi_clicks\":0,\"wind_dir_of_prevail\":0,\"et\":0,\"air_density\":0.07577481,\"rainfall_in\":0,\"heat_index_out\":50.22,\"thsw_index\":48,\"rainfall_mm\":0,\"night_cloud_cover\":0,\"deg_days_cool\":0,\"rain_rate_hi_in\":0,\"uv_index_avg\":null,\"wind_num_samples\":117,\"emc\":19.55,\"rain_rate_hi_mm\":0,\"rev_type\":2,\"rainfall_clicks\":0,\"ts\":1719831300,\"abs_press\":29.436695},{\"iss_reception\":100,\"wind_speed_avg\":0,\"uv_dose\":null,\"wind_speed_hi\":0,\"wind_dir_of_hi\":null,\"wind_chill\":50.2,\"solar_rad_hi\":44,\"deg_days_heat\":0.051388886,\"thw_index\":50.4,\"bar\":30.365,\"hum_out\":88,\"tz_offset\":-14400,\"uv_index_hi\":null,\"temp_out\":50.2,\"temp_out_lo\":50,\"wet_bulb\":48.38,\"temp_out_hi\":50.6,\"solar_rad_avg\":40,\"bar_alt\":30.365,\"arch_int\":300,\"wind_run\":0,\"solar_energy\":0.28681237,\"dew_point_out\":46.782516,\"rain_rate_hi_clicks\":0,\"wind_dir_of_prevail\":null,\"et\":0,\"air_density\":0.07573383,\"rainfall_in\":0,\"heat_index_out\":50.4,\"thsw_index\":49,\"rainfall_mm\":0,\"night_cloud_cover\":0,\"deg_days_cool\":0,\"rain_rate_hi_in\":0,\"uv_index_avg\":null,\"wind_num_samples\":117,\"emc\":19.55,\"rain_rate_hi_mm\":0,\"rev_type\":2,\"rainfall_clicks\":0,\"ts\":1719831600,\"abs_press\":29.434744}],\"sensor_type\":2,\"data_structure_type\":7},{\"lsid\":489468,\"data\":[{\"tz_offset\":-14400,\"moist_soil_last\":27.1208,\"temp_last\":63.239594,\"ts\":1719829200},{\"tz_offset\":-14400,\"moist_soil_last\":27.12646,\"temp_last\":63.20064,\"ts\":1719829500},{\"tz_offset\":-14400,\"moist_soil_last\":27.09821,\"temp_last\":63.317463,\"ts\":1719829800},{\"tz_offset\":-14400,\"moist_soil_last\":27.09257,\"temp_last\":63.16169,\"ts\":1719830100},{\"tz_offset\":-14400,\"moist_soil_last\":27.08127,\"temp_last\":63.278545,\"ts\":1719830400},{\"tz_offset\":-14400,\"moist_soil_last\":27.07563,\"temp_last\":63.14533,\"ts\":1719830700},{\"tz_offset\":-14400,\"moist_soil_last\":27.10951,\"temp_last\":62.901573,\"ts\":1719831000},{\"tz_offset\":-14400,\"moist_soil_last\":27.09257,\"temp_last\":62.862583,\"ts\":1719831300},{\"tz_offset\":-14400,\"moist_soil_last\":27.08691,\"temp_last\":62.94056,\"ts\":1719831600}],\"sensor_type\":205,\"data_structure_type\":9},{\"lsid\":458043,\"data\":[{\"wetness_last\":3.4,\"tz_offset\":-14400,\"wetness_hi_at\":1719861248,\"wetness_lo\":3.4,\"wetness_secs\":0,\"wetness_lo_at\":1719829107,\"ts\":1719829200,\"wetness_hi\":3.7},{\"wetness_last\":3.5,\"tz_offset\":-14400,\"wetness_hi_at\":1719861248,\"wetness_lo\":3.5,\"wetness_secs\":0,\"wetness_lo_at\":1719829227,\"ts\":1719829500,\"wetness_hi\":3.8},{\"wetness_last\":6.1,\"tz_offset\":-14400,\"wetness_hi_at\":1719861248,\"wetness_lo\":3.8,\"wetness_secs\":0,\"wetness_lo_at\":1719829527,\"ts\":1719829800,\"wetness_hi\":6.1},{\"wetness_last\":9.6,\"tz_offset\":-14400,\"wetness_hi_at\":1719861248,\"wetness_lo\":4,\"wetness_secs\":120,\"wetness_lo_at\":1719829828,\"ts\":1719830100,\"wetness_hi\":9.6},{\"wetness_last\":10.7,\"tz_offset\":-14400,\"wetness_hi_at\":1719861248,\"wetness_lo\":7.5,\"wetness_secs\":240,\"wetness_lo_at\":1719830128,\"ts\":1719830400,\"wetness_hi\":10.7},{\"wetness_last\":10.2,\"tz_offset\":-14400,\"wetness_hi_at\":1719861248,\"wetness_lo\":9.6,\"wetness_secs\":300,\"wetness_lo_at\":1719830428,\"ts\":1719830700,\"wetness_hi\":11},{\"wetness_last\":7,\"tz_offset\":-14400,\"wetness_hi_at\":1719861248,\"wetness_lo\":7,\"wetness_secs\":180,\"wetness_lo_at\":1719830968,\"ts\":1719831000,\"wetness_hi\":12.3},{\"wetness_last\":0,\"tz_offset\":-14400,\"wetness_hi_at\":1719861248,\"wetness_lo\":0,\"wetness_secs\":0,\"wetness_lo_at\":1719831268,\"ts\":1719831300,\"wetness_hi\":3.9},{\"wetness_last\":0,\"tz_offset\":-14400,\"wetness_hi_at\":1719861248,\"wetness_lo\":0,\"wetness_secs\":0,\"wetness_lo_at\":1719831568,\"ts\":1719831600,\"wetness_hi\":0.4}],\"sensor_type\":104,\"data_structure_type\":9},{\"lsid\":433992,\"data\":[{\"noise_floor_rssi\":-108,\"access_technology\":7,\"lead_acid_battery_voltage\":6405,\"bluetooth_firmware_version\":null,\"location_area_code\":42751,\"beacon_interval\":2097,\"tz_offset\":-14400,\"link_layer_packets_received\":174,\"solar_panel_voltage\":17454,\"rank\":256,\"creg_cgreg\":85,\"health_version\":1,\"false_wakeup_rssi\":-89,\"inside_box_temp\":108.95,\"cell_id\":5916419,\"power_percentage_tx\":0,\"rssi\":31,\"last_rx_rssi\":-33,\"power_percentage_mcu\":6,\"application_firmware_version\":1638397625,\"mcc_mnc\":310260,\"false_wakeup_count\":461,\"etx\":0,\"rpl_mode\":0,\"uptime\":76010462,\"number_of_neighbors\":1,\"last_parent_rtt_ping\":0,\"platform_id\":2,\"cme\":551,\"power_percentage_rx\":2,\"rpl_parent_node_id\":null,\"ts\":1719829800},{\"noise_floor_rssi\":-110,\"access_technology\":7,\"lead_acid_battery_voltage\":6460,\"bluetooth_firmware_version\":null,\"location_area_code\":42751,\"beacon_interval\":2097,\"tz_offset\":-14400,\"link_layer_packets_received\":195,\"solar_panel_voltage\":17464,\"rank\":256,\"creg_cgreg\":85,\"health_version\":1,\"false_wakeup_rssi\":-54,\"inside_box_temp\":109.02875,\"cell_id\":5916419,\"power_percentage_tx\":0,\"rssi\":31,\"last_rx_rssi\":-34,\"power_percentage_mcu\":6,\"application_firmware_version\":1638397625,\"mcc_mnc\":310260,\"false_wakeup_count\":523,\"etx\":0,\"rpl_mode\":0,\"uptime\":76011362,\"number_of_neighbors\":1,\"last_parent_rtt_ping\":0,\"platform_id\":2,\"cme\":551,\"power_percentage_rx\":2,\"rpl_parent_node_id\":null,\"ts\":1719830700},{\"noise_floor_rssi\":-107,\"access_technology\":7,\"lead_acid_battery_voltage\":6480,\"bluetooth_firmware_version\":null,\"location_area_code\":42751,\"beacon_interval\":2097,\"tz_offset\":-14400,\"link_layer_packets_received\":192,\"solar_panel_voltage\":17474,\"rank\":256,\"creg_cgreg\":85,\"health_version\":1,\"false_wakeup_rssi\":-99,\"inside_box_temp\":109.09625,\"cell_id\":5916419,\"power_percentage_tx\":0,\"rssi\":31,\"last_rx_rssi\":-29,\"power_percentage_mcu\":6,\"application_firmware_version\":1638397625,\"mcc_mnc\":310260,\"false_wakeup_count\":485,\"etx\":0,\"rpl_mode\":0,\"uptime\":76012263,\"number_of_neighbors\":1,\"last_parent_rtt_ping\":0,\"platform_id\":2,\"cme\":551,\"power_percentage_rx\":2,\"rpl_parent_node_id\":null,\"ts\":1719831600}],\"sensor_type\":502,\"data_structure_type\":14},{\"lsid\":433993,\"data\":[{\"tz_offset\":-14400,\"bar_trend_3_hr\":0.02,\"pressure_last\":30.355,\"ts\":1719829200},{\"tz_offset\":-14400,\"bar_trend_3_hr\":0.02,\"pressure_last\":30.359,\"ts\":1719829500},{\"tz_offset\":-14400,\"bar_trend_3_hr\":0.02,\"pressure_last\":30.362,\"ts\":1719829800},{\"tz_offset\":-14400,\"bar_trend_3_hr\":0.02,\"pressure_last\":30.36,\"ts\":1719830100},{\"tz_offset\":-14400,\"bar_trend_3_hr\":0.02,\"pressure_last\":30.36,\"ts\":1719830400},{\"tz_offset\":-14400,\"bar_trend_3_hr\":0.02,\"pressure_last\":30.36,\"ts\":1719830700},{\"tz_offset\":-14400,\"bar_trend_3_hr\":0.02,\"pressure_last\":30.365,\"ts\":1719831000},{\"tz_offset\":-14400,\"bar_trend_3_hr\":0.02,\"pressure_last\":30.367,\"ts\":1719831300},{\"tz_offset\":-14400,\"bar_trend_3_hr\":0.02,\"pressure_last\":30.365,\"ts\":1719831600}],\"sensor_type\":3,\"data_structure_type\":9}],\"generated_at\":1719833931,\"station_id\":117005}', request_datetime=datetime.datetime(2024, 7, 1, 11, 38, 50, 995266, tzinfo=datetime.timezone.utc), response_status_code='200', data_start_datetime=datetime.datetime(2024, 7, 1, 10, 16, tzinfo=datetime.timezone.utc), data_end_datetime=datetime.datetime(2024, 7, 1, 11, 0, tzinfo=datetime.timezone.utc), package_version='0.1', request_id='8a7abe81-815d-4958-93db-8127aa69ebf7', station_sampling_interval=5, weatherstation_id=2, response_content='\\\\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', id=2, request_url='https://api.weatherlink.com/v2/historic/117005?api-key=aoqdcbirudd1sarq6erfj6tgtw67sbvo&t=1719833930&start-timestamp=1719828960&end-timestamp=1719831600&api-signature=c5b0df2e69e706f05117756776ace2f57e65856b97b995d234eac9b728d39a26', response_reason='OK')"
      ]
     },
     "execution_count": 16,
     "metadata": {},
     "output_type": "execute_result"
    }
   ],
   "source": [
    "# to re-fill this sqlalchemy record cache, just ask for some piece of the data\n",
    "print(collector.current_api_response.id)\n",
    "# now the object cache is refilled and should be present\n",
    "collector.current_api_response"
   ]
  },
  {
   "cell_type": "code",
   "execution_count": 17,
   "metadata": {},
   "outputs": [
    {
     "data": {
      "text/plain": [
       "[Reading(apiresponse_id=2, station_sampling_interval=5, lws=1.0, wdir=0.0, request_id='8a7abe81-815d-4958-93db-8127aa69ebf7', pcpn=0.0, wspd=0.0, weatherstation_id=2, relh=90.0, wspd_max=1.0, rpet=None, atmp=9.28, smst=27.1208, atmp_min=9.22, stmp=17.36, data_datetime=datetime.datetime(2024, 7, 1, 14, 20, tzinfo=datetime.timezone.utc), atmp_max=9.33, srad=10.0, id=288, dwpt=7.72),\n",
       " Reading(apiresponse_id=2, station_sampling_interval=5, lws=1.0, wdir=None, request_id='8a7abe81-815d-4958-93db-8127aa69ebf7', pcpn=0.0, wspd=0.0, weatherstation_id=2, relh=90.0, wspd_max=0.0, rpet=None, atmp=9.28, smst=27.12646, atmp_min=9.22, stmp=17.33, data_datetime=datetime.datetime(2024, 7, 1, 14, 25, tzinfo=datetime.timezone.utc), atmp_max=9.33, srad=11.0, id=289, dwpt=7.72),\n",
       " Reading(apiresponse_id=2, station_sampling_interval=5, lws=1.0, wdir=0.0, request_id='8a7abe81-815d-4958-93db-8127aa69ebf7', pcpn=0.0, wspd=0.0, weatherstation_id=2, relh=90.0, wspd_max=1.0, rpet=None, atmp=9.28, smst=27.09821, atmp_min=9.22, stmp=17.4, data_datetime=datetime.datetime(2024, 7, 1, 14, 30, tzinfo=datetime.timezone.utc), atmp_max=9.33, srad=13.0, id=290, dwpt=7.72),\n",
       " Reading(apiresponse_id=2, station_sampling_interval=5, lws=1.0, wdir=None, request_id='8a7abe81-815d-4958-93db-8127aa69ebf7', pcpn=0.0, wspd=0.0, weatherstation_id=2, relh=90.0, wspd_max=0.0, rpet=None, atmp=9.33, smst=27.09257, atmp_min=9.28, stmp=17.31, data_datetime=datetime.datetime(2024, 7, 1, 14, 35, tzinfo=datetime.timezone.utc), atmp_max=9.33, srad=15.0, id=291, dwpt=7.78),\n",
       " Reading(apiresponse_id=2, station_sampling_interval=5, lws=1.0, wdir=None, request_id='8a7abe81-815d-4958-93db-8127aa69ebf7', pcpn=0.0, wspd=0.0, weatherstation_id=2, relh=90.0, wspd_max=0.0, rpet=None, atmp=9.44, smst=27.08127, atmp_min=9.33, stmp=17.38, data_datetime=datetime.datetime(2024, 7, 1, 14, 40, tzinfo=datetime.timezone.utc), atmp_max=9.56, srad=17.0, id=292, dwpt=7.89),\n",
       " Reading(apiresponse_id=2, station_sampling_interval=5, lws=1.0, wdir=0.0, request_id='8a7abe81-815d-4958-93db-8127aa69ebf7', pcpn=0.0, wspd=0.0, weatherstation_id=2, relh=89.0, wspd_max=1.0, rpet=None, atmp=9.67, smst=27.07563, atmp_min=9.56, stmp=17.3, data_datetime=datetime.datetime(2024, 7, 1, 14, 45, tzinfo=datetime.timezone.utc), atmp_max=9.78, srad=19.0, id=293, dwpt=7.94),\n",
       " Reading(apiresponse_id=2, station_sampling_interval=5, lws=1.0, wdir=0.0, request_id='8a7abe81-815d-4958-93db-8127aa69ebf7', pcpn=0.0, wspd=0.0, weatherstation_id=2, relh=89.0, wspd_max=1.0, rpet=None, atmp=9.83, smst=27.10951, atmp_min=9.72, stmp=17.17, data_datetime=datetime.datetime(2024, 7, 1, 14, 50, tzinfo=datetime.timezone.utc), atmp_max=9.94, srad=24.0, id=294, dwpt=8.11),\n",
       " Reading(apiresponse_id=2, station_sampling_interval=5, lws=1.0, wdir=0.0, request_id='8a7abe81-815d-4958-93db-8127aa69ebf7', pcpn=0.0, wspd=0.0, weatherstation_id=2, relh=88.0, wspd_max=1.0, rpet=None, atmp=10.0, smst=27.09257, atmp_min=9.94, stmp=17.15, data_datetime=datetime.datetime(2024, 7, 1, 14, 55, tzinfo=datetime.timezone.utc), atmp_max=10.06, srad=32.0, id=295, dwpt=8.1),\n",
       " Reading(apiresponse_id=2, station_sampling_interval=5, lws=0.0, wdir=None, request_id='8a7abe81-815d-4958-93db-8127aa69ebf7', pcpn=0.0, wspd=0.0, weatherstation_id=2, relh=88.0, wspd_max=0.0, rpet=None, atmp=10.11, smst=27.08691, atmp_min=10.0, stmp=17.19, data_datetime=datetime.datetime(2024, 7, 1, 15, 0, tzinfo=datetime.timezone.utc), atmp_max=10.33, srad=40.0, id=296, dwpt=8.21)]"
      ]
     },
     "execution_count": 17,
     "metadata": {},
     "output_type": "execute_result"
    }
   ],
   "source": [
    "# show the transformed readings, if any\n",
    "collector.current_readings"
   ]
  },
  {
   "cell_type": "code",
   "execution_count": 18,
   "metadata": {},
   "outputs": [
    {
     "data": {
      "text/plain": [
       "288"
      ]
     },
     "execution_count": 18,
     "metadata": {},
     "output_type": "execute_result"
    }
   ],
   "source": [
    "# again, demonstrate that the readings were stored in the database by checking the ID field\n",
    "collector.current_readings[0].id\n"
   ]
  },
  {
   "cell_type": "markdown",
   "metadata": {},
   "source": [
    "## Test/Demo getting a full day of readings"
   ]
  },
  {
   "cell_type": "code",
   "execution_count": 19,
   "metadata": {},
   "outputs": [
    {
     "data": {
      "text/plain": [
       "[3]"
      ]
     },
     "execution_count": 19,
     "metadata": {},
     "output_type": "execute_result"
    }
   ],
   "source": [
    "viable_interval = UTCInterval.previous_fifteen_minutes()\n",
    "collector.request_and_store_weather_data_utc(viable_interval)\n"
   ]
  },
  {
   "cell_type": "code",
   "execution_count": 20,
   "metadata": {},
   "outputs": [
    {
     "name": "stdout",
     "output_type": "stream",
     "text": [
      "start=datetime.datetime(2024, 6, 30, 11, 15, tzinfo=datetime.timezone.utc) end=datetime.datetime(2024, 6, 30, 11, 30, tzinfo=datetime.timezone.utc)\n",
      "response ids:\n",
      "[4]\n",
      "reading ids:\n",
      "[136, 137, 138]\n"
     ]
    }
   ],
   "source": [
    "yesterday = UTCInterval(start=viable_interval.start - timedelta(days = 1),\n",
    "                             end = viable_interval.end - timedelta(days = 1)\n",
    "                               )\n",
    "print(yesterday)\n",
    "collector._session.rollback()\n",
    "\n",
    "response_ids = collector.request_and_store_weather_data_utc(yesterday)\n",
    "print(\"response ids:\")\n",
    "print(response_ids)\n",
    "print(\"reading ids:\")\n",
    "print(collector.current_reading_ids)"
   ]
  },
  {
   "cell_type": "code",
   "execution_count": 21,
   "metadata": {},
   "outputs": [],
   "source": [
    "## there _should_ be readings from the same interval in there now     \n",
    "\n",
    "readings = collector.get_readings_by_date(yesterday)"
   ]
  },
  {
   "cell_type": "code",
   "execution_count": 22,
   "metadata": {},
   "outputs": [
    {
     "name": "stdout",
     "output_type": "stream",
     "text": [
      "[Reading(apiresponse_id=1, station_sampling_interval=5, lws=0.0, wdir=15.0, request_id='51f0eaef-ed51-4733-a8ce-76d6d93d2169', pcpn=0.0, wspd=7.0, weatherstation_id=2, relh=80.0, wspd_max=13.0, rpet=None, atmp=19.72, smst=29.98606, atmp_min=19.61, stmp=21.86, data_datetime=datetime.datetime(2024, 6, 30, 11, 15, tzinfo=datetime.timezone.utc), atmp_max=19.94, srad=0.0, id=87, dwpt=16.17), Reading(apiresponse_id=1, station_sampling_interval=5, lws=0.0, wdir=15.0, request_id='51f0eaef-ed51-4733-a8ce-76d6d93d2169', pcpn=0.0, wspd=8.0, weatherstation_id=2, relh=81.0, wspd_max=15.0, rpet=None, atmp=19.5, smst=29.95008, atmp_min=19.33, stmp=21.75, data_datetime=datetime.datetime(2024, 6, 30, 11, 20, tzinfo=datetime.timezone.utc), atmp_max=19.61, srad=0.0, id=88, dwpt=16.15), Reading(apiresponse_id=1, station_sampling_interval=5, lws=0.0, wdir=14.0, request_id='51f0eaef-ed51-4733-a8ce-76d6d93d2169', pcpn=0.0, wspd=7.0, weatherstation_id=2, relh=82.0, wspd_max=11.0, rpet=None, atmp=19.22, smst=29.99206, atmp_min=19.06, stmp=21.73, data_datetime=datetime.datetime(2024, 6, 30, 11, 25, tzinfo=datetime.timezone.utc), atmp_max=19.33, srad=0.0, id=89, dwpt=16.07), Reading(apiresponse_id=1, station_sampling_interval=5, lws=0.0, wdir=15.0, request_id='51f0eaef-ed51-4733-a8ce-76d6d93d2169', pcpn=0.0, wspd=8.0, weatherstation_id=2, relh=82.0, wspd_max=13.0, rpet=None, atmp=18.89, smst=29.96806, atmp_min=18.67, stmp=21.65, data_datetime=datetime.datetime(2024, 6, 30, 11, 30, tzinfo=datetime.timezone.utc), atmp_max=19.06, srad=0.0, id=90, dwpt=15.75)]\n"
     ]
    }
   ],
   "source": [
    "print(readings)"
   ]
  },
  {
   "cell_type": "markdown",
   "metadata": {},
   "source": [
    "## Test/demo of restricting data inserts\n",
    "\n",
    "This used to throw an exception when saving readings with the same timestamp and station. \n",
    "however, even though this is a unique constraint on these columns, the collector code checks for that, and simply \n",
    "updates the record.  This is known as an 'upsert' but it doesn't using the Postgresql + SQLAlchemy upsert but rather some custom code. "
   ]
  },
  {
   "cell_type": "code",
   "execution_count": 23,
   "metadata": {},
   "outputs": [
    {
     "data": {
      "text/plain": [
       "[Reading(apiresponse_id=4, station_sampling_interval=5, lws=0.0, wdir=0.0, request_id='18a3855a-90cf-4e88-ba95-b388a8272424', pcpn=0.0, wspd=9.0, weatherstation_id=2, relh=79.0, wspd_max=17.0, rpet=None, atmp=13.78, smst=29.69299, atmp_min=13.72, stmp=20.18, data_datetime=datetime.datetime(2024, 6, 30, 15, 20, tzinfo=datetime.timezone.utc), atmp_max=13.83, srad=47.0, id=136, dwpt=10.2),\n",
       " Reading(apiresponse_id=4, station_sampling_interval=5, lws=0.0, wdir=0.0, request_id='18a3855a-90cf-4e88-ba95-b388a8272424', pcpn=0.0, wspd=10.0, weatherstation_id=2, relh=78.0, wspd_max=15.0, rpet=None, atmp=13.67, smst=29.70491, atmp_min=13.61, stmp=20.18, data_datetime=datetime.datetime(2024, 6, 30, 15, 25, tzinfo=datetime.timezone.utc), atmp_max=13.72, srad=56.0, id=137, dwpt=9.9),\n",
       " Reading(apiresponse_id=4, station_sampling_interval=5, lws=1.0, wdir=0.0, request_id='18a3855a-90cf-4e88-ba95-b388a8272424', pcpn=0.0, wspd=8.0, weatherstation_id=2, relh=79.0, wspd_max=16.0, rpet=None, atmp=13.56, smst=29.66914, atmp_min=13.5, stmp=20.08, data_datetime=datetime.datetime(2024, 6, 30, 15, 30, tzinfo=datetime.timezone.utc), atmp_max=13.61, srad=61.0, id=138, dwpt=9.98)]"
      ]
     },
     "execution_count": 23,
     "metadata": {},
     "output_type": "execute_result"
    }
   ],
   "source": [
    "\n",
    "from sqlalchemy.exc import IntegrityError\n",
    "\n",
    "try:\n",
    "    something = collector.save_readings_from_responses(api_responses = collector.current_api_response)\n",
    "except IntegrityError as e:\n",
    "    collector._session.rollback()\n",
    "    print(\"integrity error prevented duplicate records from being inserted\")\n",
    "\n",
    "# what happens to the current readings? \n",
    "collector.current_readings"
   ]
  },
  {
   "cell_type": "code",
   "execution_count": 24,
   "metadata": {},
   "outputs": [],
   "source": [
    "# ensure the rollback worked\n",
    "\n",
    "try:\n",
    "    something = collector.save_readings_from_responses(api_responses = collector.current_api_response)\n",
    "except IntegrityError as e:\n",
    "    collector._session.rollback()\n",
    "    print(\"didn't get the rollback error\")\n",
    "\n",
    "    "
   ]
  },
  {
   "cell_type": "code",
   "execution_count": 25,
   "metadata": {},
   "outputs": [
    {
     "data": {
      "text/plain": [
       "[Reading(apiresponse_id=3, station_sampling_interval=5, lws=0.0, wdir=0.0, request_id='19f502f9-7d99-4152-a024-46a6ef04e635', pcpn=0.0, wspd=1.0, weatherstation_id=2, relh=84.0, wspd_max=3.0, rpet=None, atmp=11.56, smst=27.08127, atmp_min=11.44, stmp=16.98, data_datetime=datetime.datetime(2024, 7, 1, 15, 30, tzinfo=datetime.timezone.utc), atmp_max=11.67, srad=109.0, id=299, dwpt=8.94),\n",
       " Reading(apiresponse_id=3, station_sampling_interval=5, lws=0.0, wdir=0.0, request_id='19f502f9-7d99-4152-a024-46a6ef04e635', pcpn=0.0, wspd=1.0, weatherstation_id=2, relh=85.0, wspd_max=2.0, rpet=None, atmp=11.33, smst=27.08691, atmp_min=11.17, stmp=17.05, data_datetime=datetime.datetime(2024, 7, 1, 15, 25, tzinfo=datetime.timezone.utc), atmp_max=11.44, srad=89.0, id=298, dwpt=8.9),\n",
       " Reading(apiresponse_id=3, station_sampling_interval=5, lws=0.0, wdir=0.0, request_id='19f502f9-7d99-4152-a024-46a6ef04e635', pcpn=0.0, wspd=1.0, weatherstation_id=2, relh=86.0, wspd_max=2.0, rpet=None, atmp=11.11, smst=27.08127, atmp_min=11.0, stmp=17.05, data_datetime=datetime.datetime(2024, 7, 1, 15, 20, tzinfo=datetime.timezone.utc), atmp_max=11.22, srad=74.0, id=297, dwpt=8.86),\n",
       " Reading(apiresponse_id=2, station_sampling_interval=5, lws=0.0, wdir=None, request_id='8a7abe81-815d-4958-93db-8127aa69ebf7', pcpn=0.0, wspd=0.0, weatherstation_id=2, relh=88.0, wspd_max=0.0, rpet=None, atmp=10.11, smst=27.08691, atmp_min=10.0, stmp=17.19, data_datetime=datetime.datetime(2024, 7, 1, 15, 0, tzinfo=datetime.timezone.utc), atmp_max=10.33, srad=40.0, id=296, dwpt=8.21),\n",
       " Reading(apiresponse_id=2, station_sampling_interval=5, lws=1.0, wdir=0.0, request_id='8a7abe81-815d-4958-93db-8127aa69ebf7', pcpn=0.0, wspd=0.0, weatherstation_id=2, relh=88.0, wspd_max=1.0, rpet=None, atmp=10.0, smst=27.09257, atmp_min=9.94, stmp=17.15, data_datetime=datetime.datetime(2024, 7, 1, 14, 55, tzinfo=datetime.timezone.utc), atmp_max=10.06, srad=32.0, id=295, dwpt=8.1)]"
      ]
     },
     "execution_count": 25,
     "metadata": {},
     "output_type": "execute_result"
    }
   ],
   "source": [
    "# do we still have radings after a rollback?\n",
    "readings = collector.get_readings(n=5)\n",
    "readings\n"
   ]
  },
  {
   "cell_type": "markdown",
   "metadata": {},
   "source": [
    "## Test of Backfill process\n",
    "\n",
    "this will look for gaps and fill them \n",
    "\n",
    "start with some disconnected time intervals"
   ]
  },
  {
   "cell_type": "code",
   "execution_count": 26,
   "metadata": {},
   "outputs": [
    {
     "name": "stdout",
     "output_type": "stream",
     "text": [
      "start=datetime.datetime(2024, 6, 27, 11, 15, tzinfo=datetime.timezone.utc) end=datetime.datetime(2024, 6, 27, 11, 30, tzinfo=datetime.timezone.utc)\n",
      "start=datetime.datetime(2024, 6, 25, 11, 15, tzinfo=datetime.timezone.utc) end=datetime.datetime(2024, 6, 25, 11, 30, tzinfo=datetime.timezone.utc)\n"
     ]
    }
   ],
   "source": [
    "# start by adding data to create gaps.  This assumes the station has been online for a while\n",
    "\n",
    "few_days_ago = UTCInterval(start = yesterday.start - timedelta(days = 3), end = yesterday.end - timedelta(days = 3))\n",
    "print(few_days_ago)\n",
    "more_days_ago = UTCInterval(start = few_days_ago.start - timedelta(days = 2), end = few_days_ago.end - timedelta(days = 2))\n",
    "print(more_days_ago)"
   ]
  },
  {
   "cell_type": "code",
   "execution_count": 27,
   "metadata": {},
   "outputs": [
    {
     "name": "stdout",
     "output_type": "stream",
     "text": [
      "getting data for interval: start=datetime.datetime(2024, 6, 25, 11, 15, tzinfo=datetime.timezone.utc) end=datetime.datetime(2024, 6, 25, 11, 30, tzinfo=datetime.timezone.utc)\n",
      "[5]\n",
      "requests\n",
      "getting data for interval: start=datetime.datetime(2024, 6, 27, 11, 15, tzinfo=datetime.timezone.utc) end=datetime.datetime(2024, 6, 27, 11, 30, tzinfo=datetime.timezone.utc)\n",
      "[6]\n",
      "requests\n"
     ]
    }
   ],
   "source": [
    "print(f\"getting data for interval: {more_days_ago}\")\n",
    "print(collector.request_and_store_weather_data_utc(more_days_ago))\n",
    "print(\"requests\")\n",
    "\n",
    "print(f\"getting data for interval: {few_days_ago}\")\n",
    "print(collector.request_and_store_weather_data_utc(few_days_ago))\n",
    "print(\"requests\")\n",
    "\n",
    "\n"
   ]
  },
  {
   "cell_type": "markdown",
   "metadata": {},
   "source": [
    "*now try to get a backfill*"
   ]
  },
  {
   "cell_type": "code",
   "execution_count": 28,
   "metadata": {},
   "outputs": [
    {
     "name": "stdout",
     "output_type": "stream",
     "text": [
      "initiating backfill for 6 days\n",
      "\n",
      "        SELECT DISTINCT\n",
      "            CASE\n",
      "            when gap_start =true and gap_end = true then missing_datetime\n",
      "            when gap_start = false and gap_end = true then LAG(missing_datetime, 1) OVER ( ORDER BY missing_datetime ) \n",
      "            when gap_start = true and gap_end = false then missing_datetime\n",
      "            when gap_start = false and gap_end = false then Null\n",
      "            END start, \n",
      "            CASE\n",
      "            when gap_start =true and gap_end = true then missing_datetime\n",
      "            when gap_start = false and gap_end = true then missing_datetime\n",
      "            when gap_start = true and gap_end = false then LEAD(missing_datetime, 1) OVER ( ORDER BY missing_datetime )\n",
      "            when gap_start = false and gap_end = false then Null\n",
      "            END end\n",
      "            -- ,\n",
      "            -- missing_datetime as actual_missing_datetime, gap_start, gap_end \n",
      "        FROM \n",
      "            ( SELECT \n",
      "                clock.tick as missing_datetime, \n",
      "                data_datetime,\n",
      "                ( tick - lag(tick)  over (order by clock.tick) ) > interval '5 minutes' as gap_start,\n",
      "                ( tick - lead(tick) over (order by clock.tick) )* -1 > interval '5 minutes' as gap_end\n",
      "\n",
      "            FROM\n",
      "        \n",
      "                (SELECT\n",
      "                    generate_series( \n",
      "                        '2024-06-25T15:20:00+00:00'::timestamp with time zone, \n",
      "                        '2024-07-01T11:38:25.524663+00:00'::timestamp with time zone, \n",
      "                        '5 minutes') \n",
      "                    as tick) \n",
      "                as clock \n",
      "            \n",
      "                left outer join \n",
      "                (SELECT \n",
      "                    data_datetime \n",
      "                FROM reading \n",
      "                WHERE reading.weatherstation_id = 2\n",
      "                ) \n",
      "                as station_readings\n",
      "                    on clock.tick = station_readings.data_datetime\n",
      "\n",
      "            WHERE data_datetime is null\n",
      "\n",
      "            ) as gap_finder\n",
      "  \n",
      "        WHERE  ( gap_end = true or gap_start = true)\n",
      "        \n",
      "[UTCInterval(start=datetime.datetime(2024, 6, 27, 15, 35, tzinfo=datetime.timezone.utc), end=datetime.datetime(2024, 6, 30, 4, 0, tzinfo=datetime.timezone.utc)), UTCInterval(start=datetime.datetime(2024, 7, 1, 4, 0, tzinfo=datetime.timezone.utc), end=datetime.datetime(2024, 7, 1, 4, 0, tzinfo=datetime.timezone.utc)), UTCInterval(start=datetime.datetime(2024, 6, 27, 15, 15, tzinfo=datetime.timezone.utc), end=datetime.datetime(2024, 6, 27, 15, 15, tzinfo=datetime.timezone.utc))]\n",
      "backfill process initiated for station EWXDAVIS01 \n",
      "backfill: 5 api_responses added 728 readings for station EWXDAVIS01 \n",
      "728 readings added\n",
      "first reading element = 306\n"
     ]
    }
   ],
   "source": [
    "from datetime import UTC\n",
    "\n",
    "days_from_now = (datetime.now(UTC) - more_days_ago.start).days\n",
    "\n",
    "print(f\"initiating backfill for {days_from_now} days\")\n",
    "readings_added = collector.backfill(n_days_prior=days_from_now)\n",
    "\n",
    "print(f\"{len(readings_added)} readings added\")\n",
    "print(f\"first reading element = {readings_added[0]}\")\n",
    "\n",
    "\n",
    "\n"
   ]
  },
  {
   "cell_type": "markdown",
   "metadata": {},
   "source": [
    "double checking on how a collector needs to get records:  the time interval must not have start = end\n"
   ]
  },
  {
   "cell_type": "code",
   "execution_count": 29,
   "metadata": {},
   "outputs": [],
   "source": [
    "from ewxpwsdb.station_readings import StationReadings\n",
    "station_readings = StationReadings(collector.station, engine=engine)\n"
   ]
  },
  {
   "cell_type": "code",
   "execution_count": 30,
   "metadata": {},
   "outputs": [
    {
     "name": "stdout",
     "output_type": "stream",
     "text": [
      "[Reading(apiresponse_id=6, station_sampling_interval=5, lws=0.0, wdir=0.0, request_id='5bd2665f-1650-449d-8564-68105b20acbb', pcpn=0.0, wspd=6.0, weatherstation_id=2, relh=86.0, wspd_max=10.0, rpet=None, atmp=13.06, smst=27.40987, atmp_min=13.06, stmp=19.34, data_datetime=datetime.datetime(2024, 6, 27, 15, 20, tzinfo=datetime.timezone.utc), atmp_max=13.11, srad=61.0, id=303, dwpt=10.77), Reading(apiresponse_id=6, station_sampling_interval=5, lws=0.0, wdir=0.0, request_id='5bd2665f-1650-449d-8564-68105b20acbb', pcpn=0.0, wspd=6.0, weatherstation_id=2, relh=86.0, wspd_max=10.0, rpet=None, atmp=13.17, smst=27.39851, atmp_min=13.11, stmp=19.34, data_datetime=datetime.datetime(2024, 6, 27, 15, 25, tzinfo=datetime.timezone.utc), atmp_max=13.17, srad=90.0, id=304, dwpt=10.88), Reading(apiresponse_id=6, station_sampling_interval=5, lws=0.0, wdir=0.0, request_id='5bd2665f-1650-449d-8564-68105b20acbb', pcpn=0.0, wspd=6.0, weatherstation_id=2, relh=85.0, wspd_max=10.0, rpet=None, atmp=13.22, smst=27.39281, atmp_min=13.17, stmp=19.34, data_datetime=datetime.datetime(2024, 6, 27, 15, 30, tzinfo=datetime.timezone.utc), atmp_max=13.28, srad=110.0, id=305, dwpt=10.75), Reading(apiresponse_id=11, station_sampling_interval=5, lws=0.0, wdir=15.0, request_id='229ef815-a10e-4d1b-8b9f-c7f64ae98fdb', pcpn=0.0, wspd=7.0, weatherstation_id=2, relh=64.0, wspd_max=12.0, rpet=None, atmp=17.17, smst=27.00231, atmp_min=17.11, stmp=20.44, data_datetime=datetime.datetime(2024, 6, 27, 19, 20, tzinfo=datetime.timezone.utc), atmp_max=17.22, srad=755.0, id=984, dwpt=10.3), Reading(apiresponse_id=7, station_sampling_interval=5, lws=0.0, wdir=15.0, request_id='126a6807-3a04-46a8-8a30-de608d657fc6', pcpn=0.0, wspd=6.0, weatherstation_id=2, relh=63.0, wspd_max=10.0, rpet=None, atmp=17.67, smst=26.96288, atmp_min=17.56, stmp=20.71, data_datetime=datetime.datetime(2024, 6, 27, 19, 40, tzinfo=datetime.timezone.utc), atmp_max=17.83, srad=794.0, id=306, dwpt=10.53), Reading(apiresponse_id=7, station_sampling_interval=5, lws=1.0, wdir=0.0, request_id='126a6807-3a04-46a8-8a30-de608d657fc6', pcpn=0.0, wspd=5.0, weatherstation_id=2, relh=64.0, wspd_max=9.0, rpet=None, atmp=17.67, smst=26.92349, atmp_min=17.44, stmp=20.81, data_datetime=datetime.datetime(2024, 6, 27, 19, 45, tzinfo=datetime.timezone.utc), atmp_max=17.94, srad=802.0, id=307, dwpt=10.77), Reading(apiresponse_id=7, station_sampling_interval=5, lws=0.0, wdir=15.0, request_id='126a6807-3a04-46a8-8a30-de608d657fc6', pcpn=0.0, wspd=7.0, weatherstation_id=2, relh=64.0, wspd_max=11.0, rpet=None, atmp=17.94, smst=26.92349, atmp_min=17.89, stmp=20.97, data_datetime=datetime.datetime(2024, 6, 27, 19, 50, tzinfo=datetime.timezone.utc), atmp_max=18.06, srad=811.0, id=308, dwpt=11.03), Reading(apiresponse_id=7, station_sampling_interval=5, lws=0.0, wdir=15.0, request_id='126a6807-3a04-46a8-8a30-de608d657fc6', pcpn=0.0, wspd=6.0, weatherstation_id=2, relh=62.0, wspd_max=11.0, rpet=None, atmp=17.89, smst=26.89537, atmp_min=17.78, stmp=21.02, data_datetime=datetime.datetime(2024, 6, 27, 19, 55, tzinfo=datetime.timezone.utc), atmp_max=18.0, srad=819.0, id=309, dwpt=10.5), Reading(apiresponse_id=7, station_sampling_interval=5, lws=0.0, wdir=1.0, request_id='126a6807-3a04-46a8-8a30-de608d657fc6', pcpn=0.0, wspd=5.0, weatherstation_id=2, relh=62.0, wspd_max=12.0, rpet=None, atmp=17.89, smst=26.90661, atmp_min=17.83, stmp=21.02, data_datetime=datetime.datetime(2024, 6, 27, 20, 0, tzinfo=datetime.timezone.utc), atmp_max=18.0, srad=826.0, id=310, dwpt=10.5)]\n",
      "[12]\n"
     ]
    }
   ],
   "source": [
    "known_interval = UTCInterval(start=datetime(2024, 6, 27, 0, 0, tzinfo=timezone.utc), end=datetime(2024, 6, 27, 20, 0, tzinfo=timezone.utc))\n",
    "empty_interval = UTCInterval(start=datetime(2024, 6, 27, 15, 0, tzinfo=timezone.utc), end=datetime(2024, 6, 27, 15, 0, tzinfo=timezone.utc))\n",
    "print(station_readings.readings_by_interval_utc(known_interval))\n",
    "empty_interval.end = empty_interval.end + timedelta(minutes = 5)\n",
    "x = collector.request_and_store_weather_data_utc(empty_interval)\n",
    "print(x)"
   ]
  },
  {
   "cell_type": "markdown",
   "metadata": {},
   "source": [
    "### Clean up\n",
    "\n",
    "remove test database"
   ]
  },
  {
   "cell_type": "code",
   "execution_count": null,
   "metadata": {},
   "outputs": [],
   "source": [
    "\n",
    "from ewxpwsdb.db.database import drop_pg_db, list_pg_databases\n",
    "from sqlalchemy.orm import close_all_sessions\n",
    "\n",
    "if collector:\n",
    "    collector._session.close()\n",
    "    collector._engine.dispose()\n",
    "\n",
    "close_all_sessions()\n",
    "\n",
    "\n",
    "\n",
    "\n",
    "print(f\"attempting to drop db {engine.url.database}\")\n",
    "result = drop_pg_db(engine.url.database, get_db_url())\n",
    "    # engine)\n",
    "print(result)\n",
    "engine.dispose()\n",
    "\n"
   ]
  }
 ],
 "metadata": {
  "kernelspec": {
   "display_name": "ewxpwsdb-Ylvp0c_2-py3.11",
   "language": "python",
   "name": "python3"
  },
  "language_info": {
   "codemirror_mode": {
    "name": "ipython",
    "version": 3
   },
   "file_extension": ".py",
   "mimetype": "text/x-python",
   "name": "python",
   "nbconvert_exporter": "python",
   "pygments_lexer": "ipython3",
   "version": "3.11.9"
  }
 },
 "nbformat": 4,
 "nbformat_minor": 2
}
