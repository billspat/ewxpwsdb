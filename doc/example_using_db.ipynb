{
 "cells": [
  {
   "cell_type": "markdown",
   "metadata": {},
   "source": [
    "## Using SQLModel to work with database tables\n",
    "\n",
    "# <span style=\"color:red\">clear all output before saving: db output contains passwords! </span>\n",
    "\n",
    "this walks through process of\n",
    "\n",
    " - importing correct modules\n",
    " - creates a temporary sqlite db\n",
    "\n",
    "*things to do/fix*\n",
    "\n",
    "- use Postgresql as well as sqlite db\n",
    "- get the 'get_session' working instead of instantiating a Session directly to capture tha function in one place \n",
    "    - figure out how to use yield properly\n",
    "- work with an existing db URL rather than create it every time\n",
    "- OR create one as needed e.g. for testing\n",
    "- specify the db file to work depending on context, one for dev, prod, testing like Rails\n",
    "- return True/False from initdb , test for success\n",
    "- don't use globals! \n",
    "\n",
    "## Next steps\n",
    "\n",
    "1. convert all to tests and delete this \n",
    "2. incorporate weath collection"
   ]
  },
  {
   "cell_type": "code",
   "execution_count": null,
   "metadata": {},
   "outputs": [],
   "source": [
    "\n",
    "from ewxpwsdb.db.database import Session, init_db, engine, get_db_url\n",
    "from ewxpwsdb.db.models import WeatherStation, Reading, StationType\n",
    "from ewxpwsdb.db.importdata import import_station_file, read_station_table"
   ]
  },
  {
   "cell_type": "code",
   "execution_count": null,
   "metadata": {},
   "outputs": [],
   "source": [
    "db_url = get_db_url()\n",
    "db_url"
   ]
  },
  {
   "cell_type": "code",
   "execution_count": null,
   "metadata": {},
   "outputs": [],
   "source": [
    "init_db()"
   ]
  },
  {
   "cell_type": "code",
   "execution_count": null,
   "metadata": {},
   "outputs": [],
   "source": [
    "s = Session(engine)\n",
    "objects = [\n",
    "    StationType(station_type= 'DAVIS' ),\n",
    "    StationType(station_type= 'SPECTRUM' ), \n",
    "    StationType(station_type= 'ONSET'),\n",
    "    StationType(station_type= 'RAINWISE'),\n",
    "    StationType(station_type= 'ZENTRA'),\n",
    "]\n",
    "s.bulk_save_objects(objects)\n",
    "s.commit()"
   ]
  },
  {
   "cell_type": "code",
   "execution_count": null,
   "metadata": {},
   "outputs": [],
   "source": [
    "station_file = '../data/test_stations.tsv'\n",
    "# import, using the global 'engine' defined in database module\n",
    "import_station_file(station_file)\n"
   ]
  },
  {
   "cell_type": "code",
   "execution_count": null,
   "metadata": {},
   "outputs": [],
   "source": [
    "from sqlmodel import select\n",
    "with Session(engine) as session:\n",
    "        statement = select(WeatherStation)\n",
    "        results = session.exec(statement)\n",
    "        stations = results.all()"
   ]
  },
  {
   "cell_type": "code",
   "execution_count": null,
   "metadata": {},
   "outputs": [],
   "source": [
    "len(stations)"
   ]
  },
  {
   "cell_type": "code",
   "execution_count": null,
   "metadata": {},
   "outputs": [],
   "source": [
    "# attempt to add a duplicate\n",
    "station_list = read_station_table(station_file)\n",
    "dup_ws = WeatherStation.model_validate(station_list[2])\n",
    "with Session(engine) as session:\n",
    "    session.add(dup_ws)\n",
    "    session.commit()\n"
   ]
  },
  {
   "cell_type": "code",
   "execution_count": null,
   "metadata": {},
   "outputs": [],
   "source": [
    "our_table_names = ['WeatherStation', 'Reading']\n",
    "from sqlalchemy import inspect\n",
    "inspector = inspect(engine)\n",
    "\n",
    "db_tables = list(inspector.get_table_names())\n",
    "db_tables"
   ]
  },
  {
   "cell_type": "markdown",
   "metadata": {},
   "source": [
    "### Example SQL"
   ]
  },
  {
   "cell_type": "code",
   "execution_count": null,
   "metadata": {},
   "outputs": [],
   "source": [
    "from sqlmodel import text\n",
    "\n",
    "sql=\"select * from weatherstation inner join stationtype on weatherstation.station_type = stationtype.station_type where stationtype.station_type = 'ZENTRA';\"\n",
    "with Session(engine) as session:\n",
    "    stmt = text(sql)\n",
    "    results = session.exec(stmt)\n",
    "    records = results.all()\n",
    "\n",
    "len(records)\n"
   ]
  },
  {
   "cell_type": "markdown",
   "metadata": {},
   "source": [
    "### Clean up\n",
    "\n",
    "remove test databases"
   ]
  },
  {
   "cell_type": "code",
   "execution_count": null,
   "metadata": {},
   "outputs": [],
   "source": [
    "# if sqlite\n",
    "import re\n",
    "if re.match('sqlite', get_db_url()):\n",
    "    from os import remove\n",
    "    remove('ewxpws.db')"
   ]
  },
  {
   "cell_type": "code",
   "execution_count": null,
   "metadata": {},
   "outputs": [],
   "source": [
    "# if postgresl\n",
    "import re\n",
    "from sqlmodel import delete, text\n",
    "drop_stmt = text(\"\"\"drop database ewxpws\"\"\")\n",
    "\n",
    "if re.match('postgres', get_db_url()):\n",
    "    with Session(engine) as session:\n",
    "        session.exec(delete(Reading))\n",
    "        session.exec(delete(StationType))\n",
    "        session.exec(delete(WeatherStation))\n",
    "        session.commit()\n",
    "\n",
    "    # con = engine.connect()\n",
    "    # con.execute(drop_stmt)\n",
    "    # con.close()\n"
   ]
  },
  {
   "cell_type": "code",
   "execution_count": null,
   "metadata": {},
   "outputs": [],
   "source": [
    "session.close()\n",
    "engine.dispose()"
   ]
  }
 ],
 "metadata": {
  "kernelspec": {
   "display_name": "ewxpwsdb-Ylvp0c_2-py3.11",
   "language": "python",
   "name": "python3"
  },
  "language_info": {
   "codemirror_mode": {
    "name": "ipython",
    "version": 3
   },
   "file_extension": ".py",
   "mimetype": "text/x-python",
   "name": "python",
   "nbconvert_exporter": "python",
   "pygments_lexer": "ipython3",
   "version": "3.11.7"
  }
 },
 "nbformat": 4,
 "nbformat_minor": 2
}
