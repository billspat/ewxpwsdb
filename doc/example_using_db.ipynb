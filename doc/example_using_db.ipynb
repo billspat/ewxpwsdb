{
 "cells": [
  {
   "cell_type": "markdown",
   "metadata": {},
   "source": [
    "## Using SQLModel to work with database tables\n",
    "\n",
    "# <span style=\"color:red\">clear all output before saving: db output contains passwords! </span>\n",
    "\n",
    "this walks through process of\n",
    "\n",
    " - importing modules needed\n",
    " - creates a temporary db using .env\n",
    "\n",
    "*things to do/fix*\n",
    "\n",
    "- [X] use Postgresql as well as sqlite db\n",
    "- [X] work with an existing db URL rather than create it every time\n",
    "    - [X] OR create one as needed e.g. for testing\n",
    "\n",
    "- [X] return True/False from initdb , test for success\n",
    "- [X] convert all to tests\n",
    "- [ ] better session management? get the 'get_session' working instead of instantiating a Session directly to capture tha function in one place \n",
    "    - [X] better way to specify the db file to work depending on context, one for dev, prod, testing like Rails?   for testing currently uses cli param\n",
    "    - [X] don't use globals! middle ground - use params with globals as defaults but overridable\n",
    "    - [ ] figure out how to use yield properly for 'get_session'\n",
    "\n",
    "In progress: \n",
    "\n",
    "- [ ] total re-work of old \"weather station\" to be API specific\n",
    "    - [ ] Base classes\n",
    "    - [ ] constants\n",
    "    - [ ] Davis\n",
    "    - [ ] Onset\n",
    "    - [ ] Zentra\n",
    "\n",
    "- [ ] move previous pydantic models for readings and requests into SQLmodel\n",
    "- [ ] change data structures of response and readings to fit sql\n",
    "- [ ] create a collector class to combine weather table, api\n",
    "\n",
    "\n",
    "TODOs for db/models.py: use pydantic validation for some fields.  here are some reminders...\n",
    "```\n",
    "from pydantic import field_validator\n",
    "from ewxpwsdb.time_intervals import is_valid_timezone, TimeZoneStr\n",
    "from ewxpwsdb.weatherstations import STATION_TYPE\n",
    "# create a type for 'coordinates that enforces correct number of decimal places \n",
    "# validation on sampling_interval to be 5, 15, or 30 minutes only\n",
    "```\n",
    "\n",
    "```\n",
    "# TODO validate timezone, example code\n",
    "@field_validator('timezone')\n",
    "@classmethod\n",
    "def must_be_valid_timezone_key(cls,v: str) -> str:\n",
    "    \"\"\" ensure timezone key is valid\"\"\"\n",
    "    if is_valid_timezone(v):\n",
    "        return(v)\n",
    "    else:\n",
    "        raise ValueError(f\"timezone_key v is not a valid IANA timezone e.g. US/Eastern\")\n",
    "\n",
    "```"
   ]
  },
  {
   "cell_type": "code",
   "execution_count": null,
   "metadata": {},
   "outputs": [],
   "source": [
    "\n",
    "from ewxpwsdb.db.database import Session, init_db, get_db_url, get_engine\n",
    "from ewxpwsdb.db.models import WeatherStation, Reading, StationType, APIResponse\n",
    "from ewxpwsdb.db.importdata import import_station_file, read_station_table\n",
    "db_url = get_db_url()\n",
    "engine = get_engine(db_url)"
   ]
  },
  {
   "cell_type": "markdown",
   "metadata": {},
   "source": [
    "## create new temp database to work with"
   ]
  },
  {
   "cell_type": "code",
   "execution_count": null,
   "metadata": {},
   "outputs": [],
   "source": [
    "\n",
    "init_db(engine)"
   ]
  },
  {
   "cell_type": "code",
   "execution_count": null,
   "metadata": {},
   "outputs": [],
   "source": [
    "s = Session(engine)\n",
    "objects = [\n",
    "    StationType(station_type= 'DAVIS' ),\n",
    "    StationType(station_type= 'SPECTRUM' ), \n",
    "    StationType(station_type= 'ONSET'),\n",
    "    StationType(station_type= 'RAINWISE'),\n",
    "    StationType(station_type= 'ZENTRA'),\n",
    "]\n",
    "s.bulk_save_objects(objects)\n",
    "s.commit()"
   ]
  },
  {
   "cell_type": "code",
   "execution_count": null,
   "metadata": {},
   "outputs": [],
   "source": [
    "station_file = '../data/test_stations.tsv'\n",
    "# import, using the global 'engine' defined in database module\n",
    "import_station_file(station_file)\n"
   ]
  },
  {
   "cell_type": "code",
   "execution_count": null,
   "metadata": {},
   "outputs": [],
   "source": [
    "from sqlmodel import select\n",
    "with Session(engine) as session:\n",
    "        statement = select(WeatherStation)\n",
    "        results = session.exec(statement)\n",
    "        stations = results.all()\n",
    "\n",
    "len(stations)"
   ]
  },
  {
   "cell_type": "code",
   "execution_count": null,
   "metadata": {},
   "outputs": [],
   "source": [
    "# attempt to add a duplicate\n",
    "station_list = read_station_table(station_file)\n",
    "dup_ws = WeatherStation.model_validate(station_list[2])\n",
    "with Session(engine) as session:\n",
    "    session.add(dup_ws)\n",
    "    session.commit()\n"
   ]
  },
  {
   "cell_type": "code",
   "execution_count": null,
   "metadata": {},
   "outputs": [],
   "source": [
    "our_table_names = ['WeatherStation', 'Reading', 'apiresponse', 'stationtype']\n",
    "from sqlalchemy import inspect\n",
    "inspector = inspect(engine)\n",
    "\n",
    "db_tables = list(inspector.get_table_names())\n",
    "db_tables"
   ]
  },
  {
   "cell_type": "markdown",
   "metadata": {},
   "source": [
    "### Example SQL"
   ]
  },
  {
   "cell_type": "code",
   "execution_count": null,
   "metadata": {},
   "outputs": [],
   "source": [
    "from sqlmodel import text\n",
    "\n",
    "sql=\"select * from weatherstation inner join stationtype on weatherstation.station_type = stationtype.station_type where stationtype.station_type = 'ZENTRA';\"\n",
    "with Session(engine) as session:\n",
    "    stmt = text(sql)\n",
    "    results = session.exec(stmt)\n",
    "    records = results.all()\n",
    "\n",
    "len(records)\n"
   ]
  },
  {
   "cell_type": "markdown",
   "metadata": {},
   "source": [
    "### Clean up\n",
    "\n",
    "remove test databases"
   ]
  },
  {
   "cell_type": "code",
   "execution_count": null,
   "metadata": {},
   "outputs": [],
   "source": [
    "# if sqlite\n",
    "import re\n",
    "if re.match('sqlite', get_db_url()):\n",
    "    from os import remove\n",
    "    remove('ewxpws.db')"
   ]
  },
  {
   "cell_type": "code",
   "execution_count": null,
   "metadata": {},
   "outputs": [],
   "source": [
    "# if postgresl\n",
    "import re\n",
    "from sqlmodel import delete, text\n",
    "drop_stmt = text(\"\"\"drop database ewxpws\"\"\")\n",
    "\n",
    "if re.match('postgres', get_db_url()):\n",
    "    with Session(engine) as session:\n",
    "        session.exec(delete(Reading))\n",
    "        session.exec(delete(WeatherStation))\n",
    "        session.exec(delete(StationType))\n",
    "\n",
    "        session.commit()\n",
    "\n",
    "    # con = engine.connect()\n",
    "    # con.execute(drop_stmt)\n",
    "    # con.close()\n"
   ]
  },
  {
   "cell_type": "code",
   "execution_count": null,
   "metadata": {},
   "outputs": [],
   "source": [
    "session.close()\n",
    "engine.dispose()"
   ]
  }
 ],
 "metadata": {
  "kernelspec": {
   "display_name": "ewxpwsdb-Ylvp0c_2-py3.11",
   "language": "python",
   "name": "python3"
  },
  "language_info": {
   "codemirror_mode": {
    "name": "ipython",
    "version": 3
   },
   "file_extension": ".py",
   "mimetype": "text/x-python",
   "name": "python",
   "nbconvert_exporter": "python",
   "pygments_lexer": "ipython3",
   "version": "3.11.7"
  }
 },
 "nbformat": 4,
 "nbformat_minor": 2
}
