{
 "cells": [
  {
   "cell_type": "markdown",
   "metadata": {},
   "source": [
    "## Using SQLModel to work with database tables\n",
    "\n",
    "# <span style=\"color:red\">clear all output before saving: db output contains passwords! </span>\n",
    "\n",
    "this walks through process of\n",
    "\n",
    " - importing modules needed\n",
    " - creates a temporary db using .env\n"
   ]
  },
  {
   "cell_type": "code",
   "execution_count": null,
   "metadata": {},
   "outputs": [],
   "source": [
    "\n",
    "from ewxpwsdb.db.database import Session, init_db, get_db_url, get_engine\n",
    "from ewxpwsdb.db.models import WeatherStation, Reading, StationType, APIResponse\n",
    "from ewxpwsdb.db.importdata import import_station_file, read_station_table\n",
    "\n",
    "\n",
    "# this notebook does not use the .env file or the get_db_url() function for the app's db, \n",
    "# instead it creates a new file to be used for a temporary, empty sqlite database, deleted in the end. \n",
    "from tempfile import NamedTemporaryFile\n",
    "\n",
    "temp_sqlitefile = NamedTemporaryFile(suffix = '.db')\n",
    "temp_db_url = f\"sqlite:///{temp_sqlitefile.name}\"\n",
    "engine = get_engine(db_url=temp_db_url)\n"
   ]
  },
  {
   "cell_type": "markdown",
   "metadata": {},
   "source": [
    "## create new temp database to work with"
   ]
  },
  {
   "cell_type": "code",
   "execution_count": null,
   "metadata": {},
   "outputs": [],
   "source": [
    "\n",
    "init_db(engine)"
   ]
  },
  {
   "cell_type": "code",
   "execution_count": null,
   "metadata": {},
   "outputs": [],
   "source": [
    "station_file = '../data/test_stations.tsv'\n",
    "import_station_file(station_file, engine = engine)\n"
   ]
  },
  {
   "cell_type": "code",
   "execution_count": null,
   "metadata": {},
   "outputs": [],
   "source": [
    "from sqlmodel import select\n",
    "with Session(engine) as session:\n",
    "        statement = select(WeatherStation)\n",
    "        results = session.exec(statement)\n",
    "        stations = results.all()\n",
    "\n",
    "len(stations)"
   ]
  },
  {
   "cell_type": "code",
   "execution_count": null,
   "metadata": {},
   "outputs": [],
   "source": [
    "# attempt to add a duplicate\n",
    "from sqlalchemy import exc\n",
    "# from sqlalchemy import IntegrityError\n",
    "station_list = read_station_table(station_file)\n",
    "dup_ws = WeatherStation.model_validate(station_list[2])\n",
    "with Session(engine) as session:\n",
    "    try:\n",
    "        session.add(dup_ws)\n",
    "        session.commit()\n",
    "        print(\"if this is printing, then dup records were able to be inserted into the db\")\n",
    "    except exc.IntegrityError as e:\n",
    "        print(\"duplicate record caused integrity error, which is what we want!\")\n",
    "\n",
    "    \n"
   ]
  },
  {
   "cell_type": "code",
   "execution_count": null,
   "metadata": {},
   "outputs": [],
   "source": [
    "our_table_names = ['WeatherStation', 'Reading', 'apiresponse', 'stationtype']\n",
    "from sqlalchemy import inspect\n",
    "inspector = inspect(engine)\n",
    "\n",
    "db_tables = list(inspector.get_table_names())\n",
    "db_tables"
   ]
  },
  {
   "cell_type": "markdown",
   "metadata": {},
   "source": [
    "### Example SQL"
   ]
  },
  {
   "cell_type": "code",
   "execution_count": null,
   "metadata": {},
   "outputs": [],
   "source": [
    "from sqlmodel import text\n",
    "\n",
    "sql=\"select * from weatherstation inner join stationtype on weatherstation.station_type = stationtype.station_type where stationtype.station_type = 'ZENTRA';\"\n",
    "with Session(engine) as session:\n",
    "    stmt = text(sql)\n",
    "    results = session.exec(stmt)\n",
    "    records = results.all()\n",
    "\n",
    "len(records)\n"
   ]
  },
  {
   "cell_type": "markdown",
   "metadata": {},
   "source": [
    "### Clean up\n",
    "\n",
    "remove test database"
   ]
  },
  {
   "cell_type": "code",
   "execution_count": null,
   "metadata": {},
   "outputs": [],
   "source": [
    "session.close()\n",
    "engine.dispose()\n",
    "temp_sqlitefile.close()"
   ]
  }
 ],
 "metadata": {
  "kernelspec": {
   "display_name": "ewxpwsdb-Ylvp0c_2-py3.11",
   "language": "python",
   "name": "python3"
  },
  "language_info": {
   "codemirror_mode": {
    "name": "ipython",
    "version": 3
   },
   "file_extension": ".py",
   "mimetype": "text/x-python",
   "name": "python",
   "nbconvert_exporter": "python",
   "pygments_lexer": "ipython3",
   "version": "3.11.7"
  }
 },
 "nbformat": 4,
 "nbformat_minor": 2
}
