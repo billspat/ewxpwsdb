{
 "cells": [
  {
   "cell_type": "markdown",
   "metadata": {},
   "source": [
    "## Using SQLModel to work with database tables\n",
    "\n",
    "# <span style=\"color:red\">clear all output before saving: db output contains passwords! </span>\n",
    "\n",
    "#### Overview\n",
    "\n",
    "this walks through process of\n",
    "\n",
    " - importing modules needed\n",
    " - creates a temporary db using .env\n",
    "\n",
    "#### Requirements\n",
    "\n",
    "- Postgresql database available and has an example database in it (local or remote)\n",
    "- the URL for that database is in `../.env` or in the environment\n",
    "- example data file [../data/test_stations.tsv](../data/test_stations.tsv)\n"
   ]
  },
  {
   "cell_type": "code",
   "execution_count": null,
   "metadata": {},
   "outputs": [],
   "source": [
    "\n",
    "from ewxpwsdb.db.models import WeatherStation, Reading, StationType, APIResponse\n",
    "from ewxpwsdb.db.importdata import import_station_file, read_station_table\n",
    "\n",
    "from tempfile import NamedTemporaryFile\n"
   ]
  },
  {
   "cell_type": "markdown",
   "metadata": {},
   "source": [
    "### Create temp Postgresql db\n",
    "\n",
    "this notebook does not use the .env file or the get_db_url() function for the app's db, \n",
    "instead it creates a new file to be used for a temporary, empty postgresql database\n",
    "\n",
    "Requires that postgresql is running on local host and does not require a password.   \n",
    "\n",
    "see src/ewxpwsdb/db/database.py tmp_pg_engine function for details, or modify this function to use an external DB"
   ]
  },
  {
   "cell_type": "code",
   "execution_count": null,
   "metadata": {},
   "outputs": [],
   "source": [
    "from ewxpwsdb.db.database import Session, init_db, create_temp_pg_engine, get_db_url, drop_pg_db\n",
    "\n",
    "# create_temp_pg_engine(admin_db_url:str, name_prefix:str='' )->Engine:\n",
    "\n",
    "# this creates a db inside the server running on localhost\n",
    "db_url = get_db_url()\n",
    "engine = create_temp_pg_engine(admin_db_url=db_url, name_prefix='ewxpws_testdb')\n",
    "temp_db_name = engine.url.database\n",
    "temp_db_host = engine.url.host\n"
   ]
  },
  {
   "cell_type": "code",
   "execution_count": null,
   "metadata": {},
   "outputs": [],
   "source": [
    "\n",
    "init_db(engine)"
   ]
  },
  {
   "cell_type": "code",
   "execution_count": null,
   "metadata": {},
   "outputs": [],
   "source": [
    "# does the database have the tables we expect?\n",
    "\n",
    "our_table_names = ['WeatherStation', 'Reading', 'apiresponse', 'stationtype']\n",
    "from sqlalchemy import inspect\n",
    "inspector = inspect(engine)\n",
    "\n",
    "db_tables = list(inspector.get_table_names())\n",
    "db_tables"
   ]
  },
  {
   "cell_type": "code",
   "execution_count": null,
   "metadata": {},
   "outputs": [],
   "source": [
    "# Check the columns in the database\n",
    "from sqlalchemy import inspect\n",
    "reading_inspector = inspect(Reading)\n",
    "print(dir(reading_inspector))\n",
    "print(reading_inspector.columns)\n",
    "# insp.columns.name\n",
    "print(reading_inspector.columns[0])"
   ]
  },
  {
   "cell_type": "code",
   "execution_count": null,
   "metadata": {},
   "outputs": [],
   "source": [
    "from ewxpwsdb.db.models import WeatherStation\n",
    "station_inspector = inspect(WeatherStation)\n",
    "colnames = set()\n",
    "for c in station_inspector.columns:\n",
    "    colnames.add(c.name)\n",
    "\n",
    "print(colnames)"
   ]
  },
  {
   "cell_type": "markdown",
   "metadata": {},
   "source": [
    "### Working with the Station table"
   ]
  },
  {
   "cell_type": "code",
   "execution_count": null,
   "metadata": {},
   "outputs": [],
   "source": [
    "WeatherStation.model_fields"
   ]
  },
  {
   "cell_type": "code",
   "execution_count": null,
   "metadata": {},
   "outputs": [],
   "source": [
    "# import data\n",
    "# running this twice should not affect the station table or raise an error (only warnings)\n",
    "station_file = '../data/test_stations.tsv'\n",
    "import_station_file(station_file, engine = engine)\n"
   ]
  },
  {
   "cell_type": "code",
   "execution_count": null,
   "metadata": {},
   "outputs": [],
   "source": [
    "from sqlmodel import select\n",
    "with Session(engine) as session:\n",
    "        statement = select(WeatherStation)\n",
    "        results = session.exec(statement)\n",
    "        stations = results.all()\n",
    "\n",
    "len(stations)"
   ]
  },
  {
   "cell_type": "code",
   "execution_count": null,
   "metadata": {},
   "outputs": [],
   "source": [
    "# what is the first station? \n",
    "station = stations[0]\n",
    "print(station)"
   ]
  },
  {
   "cell_type": "code",
   "execution_count": null,
   "metadata": {},
   "outputs": [],
   "source": [
    "# attempt to add a duplicate\n",
    "from sqlalchemy import exc\n",
    "# from sqlalchemy import IntegrityError\n",
    "station_list = read_station_table(station_file)\n",
    "dup_ws = WeatherStation.model_validate(station_list[2])\n",
    "with Session(engine) as session:\n",
    "    try:\n",
    "        session.add(dup_ws)\n",
    "        session.commit()\n",
    "        print(\"if this is printing, then dup records were able to be inserted into the db\")\n",
    "    except exc.IntegrityError as e:\n",
    "        print(\"duplicate record caused integrity error, which is what we want!\")\n",
    "\n",
    "    \n"
   ]
  },
  {
   "cell_type": "markdown",
   "metadata": {},
   "source": [
    "### Example SQL"
   ]
  },
  {
   "cell_type": "code",
   "execution_count": null,
   "metadata": {},
   "outputs": [],
   "source": [
    "from sqlmodel import text\n",
    "\n",
    "sql=\"select * from weatherstation inner join stationtype on weatherstation.station_type = stationtype.station_type where stationtype.station_type = 'ZENTRA';\"\n",
    "with Session(engine) as session:\n",
    "    stmt = text(sql)\n",
    "    results = session.exec(stmt)\n",
    "    records = results.all()\n",
    "\n",
    "len(records)\n"
   ]
  },
  {
   "cell_type": "markdown",
   "metadata": {},
   "source": [
    "### Examing DB properties"
   ]
  },
  {
   "cell_type": "markdown",
   "metadata": {},
   "source": [
    "### Work with Station Model"
   ]
  },
  {
   "cell_type": "code",
   "execution_count": null,
   "metadata": {},
   "outputs": [],
   "source": []
  },
  {
   "cell_type": "markdown",
   "metadata": {},
   "source": [
    "### Clean up\n",
    "\n",
    "remove test database"
   ]
  },
  {
   "cell_type": "code",
   "execution_count": null,
   "metadata": {},
   "outputs": [],
   "source": [
    "session.close()\n",
    "engine.dispose()\n",
    "from ewxpwsdb.db.database import drop_pg_db\n",
    "db_deleted = drop_pg_db(db_name_to_delete=temp_db_name, admin_db_url=db_url)\n"
   ]
  }
 ],
 "metadata": {
  "kernelspec": {
   "display_name": "ewxpwsdb-Ylvp0c_2-py3.11",
   "language": "python",
   "name": "python3"
  },
  "language_info": {
   "codemirror_mode": {
    "name": "ipython",
    "version": 3
   },
   "file_extension": ".py",
   "mimetype": "text/x-python",
   "name": "python",
   "nbconvert_exporter": "python",
   "pygments_lexer": "ipython3",
   "version": "3.11.13"
  }
 },
 "nbformat": 4,
 "nbformat_minor": 2
}
