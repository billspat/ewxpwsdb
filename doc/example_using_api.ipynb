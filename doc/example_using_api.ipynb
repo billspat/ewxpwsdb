{
 "cells": [
  {
   "cell_type": "markdown",
   "metadata": {},
   "source": [
    "## Using API classes to get data and save to db\n",
    "\n",
    "# <span style=\"color:red\">clear all output before saving: db output contains passwords! </span>\n",
    " \n",
    "- importing modules needed\n",
    "- creates a temporary db using .env\n",
    "- creates the API objects for each vendor/station type\n",
    "- pulls data from the vendor API\n"
   ]
  },
  {
   "cell_type": "code",
   "execution_count": null,
   "metadata": {},
   "outputs": [],
   "source": [
    "%load_ext autoreload\n",
    "%autoreload 2\n",
    "\n",
    "from ewxpwsdb.db.models import WeatherStation, APIResponse, Reading, StationType\n",
    "from ewxpwsdb.db.importdata import import_station_file, read_station_table\n",
    "station_file = '../data/test_stations.tsv'"
   ]
  },
  {
   "cell_type": "markdown",
   "metadata": {},
   "source": [
    "### optional: create new temp database to work with"
   ]
  },
  {
   "cell_type": "code",
   "execution_count": null,
   "metadata": {},
   "outputs": [],
   "source": [
    "\n",
    "from ewxpwsdb.db.database import Session, init_db, get_db_url, get_engine\n",
    "from sqlmodel import select, delete\n",
    "\n",
    "db_url = get_db_url()\n",
    "print(db_url)\n",
    "engine = get_engine(db_url)\n",
    "init_db(engine)\n",
    "\n",
    "# import, using the global 'engine' defined in database module\n",
    "import_station_file(station_file)"
   ]
  },
  {
   "cell_type": "markdown",
   "metadata": {},
   "source": [
    "## Create WeatherStation object"
   ]
  },
  {
   "cell_type": "code",
   "execution_count": null,
   "metadata": {},
   "outputs": [],
   "source": [
    "station_type = 'SPECTRUM'\n"
   ]
  },
  {
   "cell_type": "code",
   "execution_count": null,
   "metadata": {},
   "outputs": [],
   "source": [
    "\n",
    "# conventience function get the first station from the database for a specific type\n",
    "def get_one_station(station_type, engine = engine):\n",
    "    with Session(engine) as session:\n",
    "        statement = select(WeatherStation).where(WeatherStation.station_type == station_type)\n",
    "        results = session.exec(statement)\n",
    "        weather_station = results.first()\n",
    "\n",
    "    return(weather_station)\n",
    "\n",
    "\n",
    "\n"
   ]
  },
  {
   "cell_type": "markdown",
   "metadata": {},
   "source": [
    "### create station object from database"
   ]
  },
  {
   "cell_type": "code",
   "execution_count": null,
   "metadata": {},
   "outputs": [],
   "source": [
    "station = get_one_station(station_type)\n",
    "station"
   ]
  },
  {
   "cell_type": "markdown",
   "metadata": {},
   "source": [
    "### OR create weather station object without database"
   ]
  },
  {
   "cell_type": "code",
   "execution_count": null,
   "metadata": {},
   "outputs": [],
   "source": [
    "# stations = read_station_table(station_file)\n",
    "# # add code to find the correct one\n",
    "# station_data = list(filter(lambda x: (x['station_type']==station_type), stations))[0]\n",
    "# station = WeatherStation.model_validate(station_data) \n",
    "# station.station_type\n"
   ]
  },
  {
   "cell_type": "markdown",
   "metadata": {},
   "source": [
    "## Test APIs\n"
   ]
  },
  {
   "cell_type": "code",
   "execution_count": null,
   "metadata": {},
   "outputs": [],
   "source": [
    "# create API class from station\n",
    "from ewxpwsdb.weather_apis import API_CLASS_TYPES\n",
    "wapi = API_CLASS_TYPES[station.station_type](station)\n",
    "wapi.station_type"
   ]
  },
  {
   "cell_type": "code",
   "execution_count": null,
   "metadata": {},
   "outputs": [],
   "source": [
    "print(wapi.station_type)\n",
    "print(wapi.weather_station.id)\n",
    "print(wapi.sampling_interval)\n",
    "print(wapi.APIConfigClass)"
   ]
  },
  {
   "cell_type": "code",
   "execution_count": null,
   "metadata": {},
   "outputs": [],
   "source": [
    "# check that configuration class is instantiated with same data in database\n",
    "api_config = wapi.APIConfigClass.model_validate_json_str(wapi.weather_station.api_config)\n",
    "print(api_config == wapi.api_config)"
   ]
  },
  {
   "cell_type": "markdown",
   "metadata": {},
   "source": [
    "Get the data from an API request, and save that API_response into the database"
   ]
  },
  {
   "cell_type": "code",
   "execution_count": null,
   "metadata": {},
   "outputs": [],
   "source": [
    "r = wapi.get_readings()\n"
   ]
  },
  {
   "cell_type": "code",
   "execution_count": null,
   "metadata": {},
   "outputs": [],
   "source": [
    "# check that there is no error\n",
    "r[0].response_text"
   ]
  },
  {
   "cell_type": "markdown",
   "metadata": {},
   "source": [
    "compare what the WeatheAPI created with our API Response model"
   ]
  },
  {
   "cell_type": "code",
   "execution_count": null,
   "metadata": {},
   "outputs": [],
   "source": [
    "from ewxpwsdb.db.models import APIResponse\n",
    "\n",
    "api_response_records = None\n",
    "api_response_records = api_response_records or wapi.current_api_response_records\n",
    "print(len(api_response_records))\n",
    "api_response_record = api_response_records[0]\n",
    "isinstance(api_response_record, APIResponse)\n"
   ]
  },
  {
   "cell_type": "code",
   "execution_count": null,
   "metadata": {},
   "outputs": [],
   "source": [
    "wapi.weather_station"
   ]
  },
  {
   "cell_type": "code",
   "execution_count": null,
   "metadata": {},
   "outputs": [],
   "source": [
    "api_response_record.weatherstation_id"
   ]
  },
  {
   "cell_type": "markdown",
   "metadata": {},
   "source": [
    "save the api responses from the request in the database, which then assigns and ID number(s)"
   ]
  },
  {
   "cell_type": "code",
   "execution_count": null,
   "metadata": {},
   "outputs": [],
   "source": [
    "with Session(engine) as session:\n",
    "    for arr in api_response_records:\n",
    "        print(arr.id)\n",
    "        session.add(arr)\n",
    "        session.commit()\n",
    "        print(arr.id)\n",
    "    "
   ]
  },
  {
   "cell_type": "code",
   "execution_count": null,
   "metadata": {},
   "outputs": [],
   "source": [
    "wapi.current_api_response_records[0].id"
   ]
  },
  {
   "cell_type": "markdown",
   "metadata": {},
   "source": [
    "transform/harmonize the response data into sensor values.  "
   ]
  },
  {
   "cell_type": "code",
   "execution_count": null,
   "metadata": {},
   "outputs": [],
   "source": [
    "sensor_data =  wapi._transform(api_response_record.response_text)\n",
    "sensor_data"
   ]
  },
  {
   "cell_type": "markdown",
   "metadata": {},
   "source": [
    "check that these data can be turned into a Reading object (data + metadata )"
   ]
  },
  {
   "cell_type": "code",
   "execution_count": null,
   "metadata": {},
   "outputs": [],
   "source": [
    "reading = Reading.model_validate_from_station(sensor_data[0], api_response_record)\n",
    "reading"
   ]
  },
  {
   "cell_type": "markdown",
   "metadata": {},
   "source": [
    "save the rows of data from the sensor into the database using a Session"
   ]
  },
  {
   "cell_type": "code",
   "execution_count": null,
   "metadata": {},
   "outputs": [],
   "source": [
    "with Session(engine) as session:\n",
    "    readings = [Reading.model_validate_from_station(data, api_response_record) for data in sensor_data]\n",
    "    session.bulk_save_objects(readings)    \n",
    "    session.commit()\n",
    "    "
   ]
  },
  {
   "cell_type": "code",
   "execution_count": null,
   "metadata": {},
   "outputs": [],
   "source": [
    "station.id"
   ]
  },
  {
   "cell_type": "code",
   "execution_count": null,
   "metadata": {},
   "outputs": [],
   "source": [
    "# summarize readings in the database\n",
    "station_id = station.id\n",
    "with Session(engine) as session:\n",
    "    stmt = select(Reading, WeatherStation).join(WeatherStation).where(WeatherStation.id  == 3)\n",
    "    results = session.exec(stmt)\n",
    "    for reading in results:\n",
    "        print(reading)\n",
    "\n",
    "\n"
   ]
  },
  {
   "cell_type": "code",
   "execution_count": null,
   "metadata": {},
   "outputs": [],
   "source": [
    "isinstance(readings, list)"
   ]
  },
  {
   "cell_type": "markdown",
   "metadata": {},
   "source": [
    "## Clean up \n",
    "\n",
    "If using databases, remove test databases"
   ]
  },
  {
   "cell_type": "code",
   "execution_count": null,
   "metadata": {},
   "outputs": [],
   "source": [
    "# if sqlite\n",
    "import re\n",
    "if re.match('sqlite', get_db_url()):\n",
    "    from os import remove\n",
    "    remove('ewxpws.db')"
   ]
  },
  {
   "cell_type": "code",
   "execution_count": 46,
   "metadata": {},
   "outputs": [
    {
     "name": "stdout",
     "output_type": "stream",
     "text": [
      "2024-02-01 08:58:48,500 INFO sqlalchemy.engine.Engine BEGIN (implicit)\n",
      "2024-02-01 08:58:48,501 INFO sqlalchemy.engine.Engine DELETE FROM reading\n",
      "2024-02-01 08:58:48,501 INFO sqlalchemy.engine.Engine [cached since 40.71s ago] {}\n",
      "2024-02-01 08:58:48,502 INFO sqlalchemy.engine.Engine DELETE FROM apiresponse\n",
      "2024-02-01 08:58:48,503 INFO sqlalchemy.engine.Engine [generated in 0.00023s] {}\n",
      "2024-02-01 08:58:48,504 INFO sqlalchemy.engine.Engine DELETE FROM weatherstation\n",
      "2024-02-01 08:58:48,504 INFO sqlalchemy.engine.Engine [generated in 0.00027s] {}\n",
      "2024-02-01 08:58:48,505 INFO sqlalchemy.engine.Engine DELETE FROM stationtype\n",
      "2024-02-01 08:58:48,505 INFO sqlalchemy.engine.Engine [cached since 40.71s ago] {}\n",
      "2024-02-01 08:58:48,506 INFO sqlalchemy.engine.Engine COMMIT\n"
     ]
    }
   ],
   "source": [
    "# if postgresl\n",
    "import re\n",
    "from sqlmodel import delete, text\n",
    "drop_stmt = text(\"\"\"drop database ewxpws\"\"\")\n",
    "\n",
    "if re.match('postgres', get_db_url()):\n",
    "    with Session(engine) as session:\n",
    "        session.exec(delete(Reading))\n",
    "        session.exec(delete(APIResponse))\n",
    "        session.exec(delete(WeatherStation))\n",
    "        session.exec(delete(StationType))\n",
    "\n",
    "        session.commit()\n",
    "\n",
    "    # con = engine.connect()\n",
    "    # con.execute(drop_stmt)\n",
    "    # con.close()\n"
   ]
  },
  {
   "cell_type": "code",
   "execution_count": 47,
   "metadata": {},
   "outputs": [],
   "source": [
    "session.close()\n",
    "engine.dispose()"
   ]
  }
 ],
 "metadata": {
  "kernelspec": {
   "display_name": "ewxpwsdb-Ylvp0c_2-py3.11",
   "language": "python",
   "name": "python3"
  },
  "language_info": {
   "codemirror_mode": {
    "name": "ipython",
    "version": 3
   },
   "file_extension": ".py",
   "mimetype": "text/x-python",
   "name": "python",
   "nbconvert_exporter": "python",
   "pygments_lexer": "ipython3",
   "version": "3.11.7"
  }
 },
 "nbformat": 4,
 "nbformat_minor": 2
}
