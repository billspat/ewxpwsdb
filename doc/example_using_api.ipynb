{
 "cells": [
  {
   "cell_type": "markdown",
   "metadata": {},
   "source": [
    "## Using API classes to get data and save to db\n",
    "\n",
    "# <span style=\"color:red\">clear all output before saving: db output contains passwords! </span>\n",
    " \n",
    "- importing modules needed\n",
    "- creates a temporary db using .env\n",
    "- creates the API objects for each vendor/station type\n",
    "- pulls data from the vendor API\n"
   ]
  },
  {
   "cell_type": "code",
   "execution_count": null,
   "metadata": {},
   "outputs": [],
   "source": [
    "%load_ext autoreload\n",
    "%autoreload 2"
   ]
  },
  {
   "cell_type": "code",
   "execution_count": null,
   "metadata": {},
   "outputs": [],
   "source": [
    "\n",
    "from ewxpwsdb.db.models import WeatherStation, APIResponse, Reading, StationType\n",
    "from ewxpwsdb.db.importdata import import_station_file, read_station_table\n",
    "station_file = '../data/test_stations.tsv'"
   ]
  },
  {
   "cell_type": "markdown",
   "metadata": {},
   "source": [
    "### create new temp database to work with\n",
    "\n",
    "this notebook does not use the .env file or the get_db_url() function for the app's db, \n",
    "instead it creates a new file to be used for a temporary, empty postgresql database, deleted in the end. \n",
    "this requires postgresql to be installed on your computer and running.  Any version should work. Tested with versions 15 and 16\n",
    "\n",
    "Note as of now the functions used assume that the pg server can be accessed without a password from localhost. \n",
    "\n",
    "On MacOS, https://postgresapp.com is the very fastest way to get started and works in this way. "
   ]
  },
  {
   "cell_type": "code",
   "execution_count": null,
   "metadata": {},
   "outputs": [],
   "source": [
    "# optional: temporary sqlite URL  - \n",
    "# note that sqlite does not support timezone aware datetime fields, so avoid using it\n",
    "# \n",
    "# from tempfile import NamedTemporaryFile\n",
    "# temp_sqlitefile = NamedTemporaryFile(suffix = '.db')\n",
    "# temp_db_url = f\"sqlite:///{temp_sqlitefile.name}\""
   ]
  },
  {
   "cell_type": "code",
   "execution_count": null,
   "metadata": {},
   "outputs": [],
   "source": [
    "# Postgresql temporary URL\n",
    "\n",
    "# note, if you run this twice without running the associated drop function,\n",
    "# there will be an orphaned empty temp database you may have to drop manually because the temp db name will be lost\n",
    "# see the end of this notebook for that function\n",
    "from ewxpwsdb.db.database import temp_pg_engine\n",
    "engine = temp_pg_engine(host='localhost')\n",
    "\n",
    "temp_db_url = engine.url\n",
    "temp_db_url.database\n"
   ]
  },
  {
   "cell_type": "code",
   "execution_count": null,
   "metadata": {},
   "outputs": [],
   "source": [
    "\n",
    "# use the newly created temporary database\n",
    "\n",
    "from ewxpwsdb.db.database import Session, init_db\n",
    "from sqlmodel import select\n",
    "init_db(engine, station_tsv_file=station_file)\n"
   ]
  },
  {
   "cell_type": "markdown",
   "metadata": {},
   "source": [
    "\n",
    "## work with db\n",
    "\n",
    "This works for just one station type.  Set the type you'd like to work with here.  See `src/ewxpwsdb/weather_apis/__init__.py` file for the list of currently supported station types.   "
   ]
  },
  {
   "cell_type": "code",
   "execution_count": null,
   "metadata": {},
   "outputs": [],
   "source": [
    "station_type = 'RAINWISE'"
   ]
  },
  {
   "cell_type": "code",
   "execution_count": null,
   "metadata": {},
   "outputs": [],
   "source": [
    "from ewxpwsdb.weather_apis import STATION_TYPE_LIST, API_CLASS_TYPES\n",
    "APIclass = API_CLASS_TYPES[station_type]\n",
    "print(APIclass._sampling_interval)"
   ]
  },
  {
   "cell_type": "markdown",
   "metadata": {},
   "source": [
    "The following function pulls one station of a particular type, the first one it finds"
   ]
  },
  {
   "cell_type": "code",
   "execution_count": null,
   "metadata": {},
   "outputs": [],
   "source": [
    "# conventience function get the first station from the database for a specific type\n",
    "def get_one_station(station_type, engine = engine):\n",
    "    with Session(engine) as session:\n",
    "        statement = select(WeatherStation).where(WeatherStation.station_type == station_type)\n",
    "        results = session.exec(statement)\n",
    "        weather_station = results.first()\n",
    "\n",
    "    return(weather_station)"
   ]
  },
  {
   "cell_type": "markdown",
   "metadata": {},
   "source": [
    "### create station object from database"
   ]
  },
  {
   "cell_type": "code",
   "execution_count": null,
   "metadata": {},
   "outputs": [],
   "source": [
    "station = get_one_station(station_type)\n",
    "station"
   ]
  },
  {
   "cell_type": "markdown",
   "metadata": {},
   "source": [
    " *could create weather station object without database, but then there is no ID Field which then can't be used to create related objects*"
   ]
  },
  {
   "cell_type": "code",
   "execution_count": null,
   "metadata": {},
   "outputs": [],
   "source": [
    "\n",
    "# this is example code to pull a station from a file of stations, and not a database\n",
    "\n",
    "# stations = read_station_table(station_file)\n",
    "# # add code to find the correct one\n",
    "# station_data = list(filter(lambda x: (x['station_type']==station_type), stations))[0]\n",
    "# station = WeatherStation.model_validate(station_data) \n",
    "# station.station_type\n"
   ]
  },
  {
   "cell_type": "markdown",
   "metadata": {},
   "source": [
    "## Test APIs\n"
   ]
  },
  {
   "cell_type": "code",
   "execution_count": null,
   "metadata": {},
   "outputs": [],
   "source": [
    "# create API class from station\n",
    "\n",
    "from ewxpwsdb.weather_apis import API_CLASS_TYPES\n",
    "wapi = API_CLASS_TYPES[station.station_type](station)\n",
    "wapi.station_type"
   ]
  },
  {
   "cell_type": "code",
   "execution_count": null,
   "metadata": {},
   "outputs": [],
   "source": [
    "# demo how the weatherapi interface works\n",
    "\n",
    "print(wapi.station_type)\n",
    "print(wapi.weather_station.id)\n",
    "print(wapi.sampling_interval)\n",
    "print(wapi.APIConfigClass)\n",
    "# check that configuration class is instantiated with same data in database\n",
    "api_config = wapi.APIConfigClass.model_validate_json_str(wapi.weather_station.api_config)\n",
    "print(api_config == wapi.api_config)"
   ]
  },
  {
   "cell_type": "markdown",
   "metadata": {},
   "source": [
    "### API Requests"
   ]
  },
  {
   "cell_type": "code",
   "execution_count": null,
   "metadata": {},
   "outputs": [],
   "source": [
    "# setup the time interval\n",
    "\n",
    "from datetime import timedelta\n",
    "from ewxpwsdb.time_intervals import previous_fourteen_minute_interval\n",
    "interval = previous_fourteen_minute_interval()\n",
    "\n",
    "# this is 1 hour of data, at least 1 hour ago\n",
    "s = interval.start  - timedelta(minutes = 60)\n",
    "e = interval.end  - timedelta(minutes=30)\n",
    "\n",
    "(s,e)\n"
   ]
  },
  {
   "cell_type": "markdown",
   "metadata": {},
   "source": [
    "Get the data from an API request, and save that API_response into the database"
   ]
  },
  {
   "cell_type": "code",
   "execution_count": null,
   "metadata": {},
   "outputs": [],
   "source": [
    "# check that the locomos api is working\n",
    "# this is a special LOCOMOS-only api\n",
    "if station_type == 'LOCOMOS':\n",
    "    print(wapi._get_variables())"
   ]
  },
  {
   "cell_type": "code",
   "execution_count": null,
   "metadata": {},
   "outputs": [],
   "source": [
    "# get a response and check it\n",
    "api_response_records = wapi.get_readings(start_datetime=s, end_datetime=e)\n",
    "from pprint import pprint\n",
    "pprint(api_response_records[0].response_text)"
   ]
  },
  {
   "cell_type": "code",
   "execution_count": null,
   "metadata": {},
   "outputs": [],
   "source": [
    "# confirm there is some data in the response\n",
    "\n",
    "for response_record in api_response_records:\n",
    "    if wapi.data_present_in_response(response_record):\n",
    "        print('data found')\n",
    "\n",
    "import json\n",
    "from pprint import pprint\n",
    "response_data = json.loads(api_response_records[0].response_text)\n",
    "for element in response_data: \n",
    "    print(element)"
   ]
  },
  {
   "cell_type": "markdown",
   "metadata": {},
   "source": [
    "save the api responses from the request in the database, which then assigns and ID number(s)"
   ]
  },
  {
   "cell_type": "code",
   "execution_count": null,
   "metadata": {},
   "outputs": [],
   "source": [
    "session = Session(engine)\n",
    "for response in api_response_records:\n",
    "    session.add(response)\n",
    "    session.commit()\n",
    "\n",
    "# session is still open"
   ]
  },
  {
   "cell_type": "markdown",
   "metadata": {},
   "source": [
    "check that the current records that are inside the weatherapi were assigned a database ID"
   ]
  },
  {
   "cell_type": "code",
   "execution_count": null,
   "metadata": {},
   "outputs": [],
   "source": [
    "\n",
    "print(wapi.current_api_response_records[0].id)"
   ]
  },
  {
   "cell_type": "markdown",
   "metadata": {},
   "source": [
    "### Readings"
   ]
  },
  {
   "cell_type": "markdown",
   "metadata": {},
   "source": [
    "transform/harmonize the response data into sensor values.  "
   ]
  },
  {
   "cell_type": "code",
   "execution_count": null,
   "metadata": {},
   "outputs": [],
   "source": [
    "readings = wapi.transform(api_response_records)\n",
    "readings"
   ]
  },
  {
   "cell_type": "code",
   "execution_count": null,
   "metadata": {},
   "outputs": [],
   "source": [
    "for reading in readings:\n",
    "    try:\n",
    "        session.add(reading)\n",
    "        session.commit()\n",
    "    except Exception as e:\n",
    "        print(e)\n",
    "\n"
   ]
  },
  {
   "cell_type": "code",
   "execution_count": null,
   "metadata": {},
   "outputs": [],
   "source": [
    "print(readings[0].id)"
   ]
  },
  {
   "cell_type": "markdown",
   "metadata": {},
   "source": [
    "### Reading Insert procedure\n",
    "\n",
    "what happens when we pull data that we've already inserted?    test the **upsert** method here"
   ]
  },
  {
   "cell_type": "code",
   "execution_count": null,
   "metadata": {},
   "outputs": [],
   "source": [
    "## test the upsert here! \n",
    "\n",
    "# attempt to re-insert a reading but update instead e.g. upsert   pg_upsert_stmt(model, insert_data, update_data=None, index_elements=None):\n",
    "repeat_readings = wapi.transform(api_response_records)\n",
    "print(repeat_readings[0])\n",
    "from ewxpwsdb.db.database import pg_upsert_stmt\n",
    "stmt = pg_upsert_stmt(Reading, repeat_readings[0].model_dump())\n",
    "print(stmt)\n"
   ]
  },
  {
   "cell_type": "markdown",
   "metadata": {},
   "source": [
    "## could we make the above form look more professional?\n",
    "\n",
    "current it takes two function calls to get a response and transform into reading records. \n",
    "\n",
    "Could we do something that looks like this?\n",
    "\n",
    "```readings = wapi.get_readings(s,e).transform()```\n",
    "\n",
    "that looks nice, but requires changing the code  to return self from get_readings \n",
    "\n",
    "*(which may be possible if the outputs from these functions are saved as state in the class)*\n",
    "\n",
    "We could also just create a convenience functions to accomplish the same task: \n",
    "\n",
    "```readings = wapi.get_and_transform_readings(s,e)  ```\n",
    "\n",
    "\n",
    "but we also want to save the responses in a database and link the reading records with the response for auditing to discover mistakes, and this does not all for that, \n",
    "because the readings don't hvae the response database id to create a link with until they are saved in the DB\n",
    "\n",
    "The solution is to use the `Collector` class that has the convenience wrappers and combines API with database functions. \n",
    "\n",
    "see [`example using collector`](example_using_collector.ipynb) notebook\n"
   ]
  },
  {
   "cell_type": "markdown",
   "metadata": {},
   "source": [
    "check that these data can be turned into a Reading object (data + metadata )"
   ]
  },
  {
   "cell_type": "markdown",
   "metadata": {},
   "source": [
    "save the rows of data from the sensor into the database using a Session"
   ]
  },
  {
   "cell_type": "code",
   "execution_count": null,
   "metadata": {},
   "outputs": [],
   "source": [
    "# readings from transform...\n",
    "for reading in readings:\n",
    "    session.add(reading)    \n",
    "session.commit()\n",
    "# does it have an id now?\n",
    "readings[0].id    "
   ]
  },
  {
   "cell_type": "code",
   "execution_count": null,
   "metadata": {},
   "outputs": [],
   "source": [
    "readings[0].id "
   ]
  },
  {
   "cell_type": "markdown",
   "metadata": {},
   "source": [
    "## Getting data back from the database"
   ]
  },
  {
   "cell_type": "code",
   "execution_count": null,
   "metadata": {},
   "outputs": [],
   "source": [
    "# check we still have a station id. \n",
    "station.id\n"
   ]
  },
  {
   "cell_type": "code",
   "execution_count": null,
   "metadata": {},
   "outputs": [],
   "source": [
    "session.close()"
   ]
  },
  {
   "cell_type": "code",
   "execution_count": null,
   "metadata": {},
   "outputs": [],
   "source": [
    "# summarize readings in the database\n",
    "station_id = station.id\n",
    "with Session(engine) as session:\n",
    "    stmt = select(Reading, WeatherStation).join(WeatherStation).where(WeatherStation.id  == station.id)\n",
    "    # results = session.exec(stmt)\n",
    "    reading_records = session.exec(stmt).all()\n",
    "    for reading_records in reading_records:\n",
    "        reading = reading_records.Reading\n",
    "        print(f\"{reading.data_datetime}: air temp {reading.atmp}C\")\n",
    "\n",
    "    # let's save one for later\n",
    "    reading = readings[0]\n",
    "    session.close()\n",
    "    \n",
    "\n"
   ]
  },
  {
   "cell_type": "code",
   "execution_count": null,
   "metadata": {},
   "outputs": [],
   "source": [
    "# get more data\n",
    "# note that the 'session' must be present for the whole transaction of response and readings for\n",
    "responses = wapi.get_readings()\n",
    "session = Session(engine)\n",
    "for response in responses:\n",
    "    session.add(response)\n",
    "    session.commit()\n",
    "\n",
    "responses[0].id\n",
    "    \n",
    "responses[0]"
   ]
  },
  {
   "cell_type": "code",
   "execution_count": null,
   "metadata": {},
   "outputs": [],
   "source": [
    "responses[0].id"
   ]
  },
  {
   "cell_type": "code",
   "execution_count": null,
   "metadata": {},
   "outputs": [],
   "source": [
    "stmt = select(APIResponse).where(APIResponse.request_id == wapi.current_api_response_records[0].request_id)\n",
    "result = session.exec(stmt)\n",
    "some_apiresponse = result.first()\n",
    "print(some_apiresponse.id)"
   ]
  },
  {
   "cell_type": "code",
   "execution_count": null,
   "metadata": {},
   "outputs": [],
   "source": [
    "api_response_records = api_response_records or wapi.current_api_response_records\n",
    "api_response_records[0].id"
   ]
  },
  {
   "cell_type": "markdown",
   "metadata": {},
   "source": [
    "## Clean up \n",
    "\n",
    "If using databases, remove test databases"
   ]
  },
  {
   "cell_type": "code",
   "execution_count": null,
   "metadata": {},
   "outputs": [],
   "source": [
    "# if sqlite\n",
    "if 'sqlite' in temp_db_url and temp_sqlitefile:\n",
    "    session.close()\n",
    "    engine.dispose()\n",
    "    temp_sqlitefile.close()"
   ]
  },
  {
   "cell_type": "code",
   "execution_count": null,
   "metadata": {},
   "outputs": [],
   "source": [
    "# if postgresl (the drop function detects if it's a postgres engine)\n",
    "\n",
    "\n",
    "from ewxpwsdb.db.database import drop_temp_pg_engine, list_pg_databases, drop_temp_pg_db\n",
    "from sqlalchemy.orm import close_all_sessions\n",
    "\n",
    "print(f\"attempting to drop db {engine.url.database}\")\n",
    "close_all_sessions()\n",
    "engine.dispose()\n",
    "result = drop_temp_pg_engine(engine)\n",
    "print(result)\n",
    "\n",
    "engine.dispose()\n",
    "list_pg_databases(host='localhost')\n"
   ]
  }
 ],
 "metadata": {
  "kernelspec": {
   "display_name": "ewxpwsdb-Ylvp0c_2-py3.11",
   "language": "python",
   "name": "python3"
  },
  "language_info": {
   "codemirror_mode": {
    "name": "ipython",
    "version": 3
   },
   "file_extension": ".py",
   "mimetype": "text/x-python",
   "name": "python",
   "nbconvert_exporter": "python",
   "pygments_lexer": "ipython3",
   "version": "3.11.7"
  }
 },
 "nbformat": 4,
 "nbformat_minor": 2
}
