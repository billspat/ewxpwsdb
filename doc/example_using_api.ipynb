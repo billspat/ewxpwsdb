{
 "cells": [
  {
   "cell_type": "markdown",
   "metadata": {},
   "source": [
    "## Using API classes to get data and save to db\n",
    "\n",
    "# <span style=\"color:red\">clear all output before saving: db output contains passwords! </span>\n",
    " \n",
    "- importing modules needed\n",
    "- creates a temporary db using .env\n",
    "- creates the API objects for each vendor/station type\n",
    "- pulls data from the vendor API\n"
   ]
  },
  {
   "cell_type": "code",
   "execution_count": 1,
   "metadata": {},
   "outputs": [
    {
     "name": "stdout",
     "output_type": "stream",
     "text": [
      "postgresql+psycopg2://localhost:5432/ewxpws\n"
     ]
    }
   ],
   "source": [
    "%load_ext autoreload\n",
    "%autoreload 2\n",
    "\n",
    "from ewxpwsdb.db.database import Session, init_db, get_db_url, get_engine\n",
    "from ewxpwsdb.db.models import WeatherStation, Reading, StationType\n",
    "from ewxpwsdb.db.importdata import import_station_file, read_station_table\n",
    "from sqlmodel import select\n",
    "\n",
    "db_url = get_db_url()\n",
    "print(db_url)\n",
    "engine = get_engine(db_url)\n"
   ]
  },
  {
   "cell_type": "markdown",
   "metadata": {},
   "source": [
    "### optional: create new temp database to work with"
   ]
  },
  {
   "cell_type": "code",
   "execution_count": null,
   "metadata": {},
   "outputs": [],
   "source": [
    "init_db(engine)\n",
    "s = Session(engine)\n",
    "objects = [\n",
    "    StationType(station_type= 'DAVIS' ),\n",
    "    StationType(station_type= 'SPECTRUM' ), \n",
    "    StationType(station_type= 'ONSET'),\n",
    "    StationType(station_type= 'RAINWISE'),\n",
    "    StationType(station_type= 'ZENTRA'),\n",
    "]\n",
    "s.bulk_save_objects(objects)\n",
    "s.commit()\n",
    "station_file = '../data/test_stations.tsv'\n",
    "# import, using the global 'engine' defined in database module\n",
    "import_station_file(station_file)\n"
   ]
  },
  {
   "cell_type": "markdown",
   "metadata": {},
   "source": [
    "**check that there are stations**"
   ]
  },
  {
   "cell_type": "code",
   "execution_count": 2,
   "metadata": {},
   "outputs": [
    {
     "name": "stdout",
     "output_type": "stream",
     "text": [
      "2024-01-30 22:55:07,797 INFO sqlalchemy.engine.Engine select pg_catalog.version()\n",
      "2024-01-30 22:55:07,798 INFO sqlalchemy.engine.Engine [raw sql] {}\n",
      "2024-01-30 22:55:07,799 INFO sqlalchemy.engine.Engine select current_schema()\n",
      "2024-01-30 22:55:07,799 INFO sqlalchemy.engine.Engine [raw sql] {}\n",
      "2024-01-30 22:55:07,799 INFO sqlalchemy.engine.Engine show standard_conforming_strings\n",
      "2024-01-30 22:55:07,800 INFO sqlalchemy.engine.Engine [raw sql] {}\n",
      "2024-01-30 22:55:07,800 INFO sqlalchemy.engine.Engine BEGIN (implicit)\n",
      "2024-01-30 22:55:07,803 INFO sqlalchemy.engine.Engine SELECT weatherstation.id, weatherstation.station_code, weatherstation.station_type, weatherstation.install_date, weatherstation.timezone, weatherstation.ewx_user_id, weatherstation.lat, weatherstation.lon, weatherstation.location_description, weatherstation.api_config \n",
      "FROM weatherstation\n",
      "2024-01-30 22:55:07,804 INFO sqlalchemy.engine.Engine [generated in 0.00032s] {}\n",
      "2024-01-30 22:55:07,805 INFO sqlalchemy.engine.Engine ROLLBACK\n"
     ]
    },
    {
     "data": {
      "text/plain": [
       "6"
      ]
     },
     "execution_count": 2,
     "metadata": {},
     "output_type": "execute_result"
    }
   ],
   "source": [
    "with Session(engine) as session:\n",
    "        statement = select(WeatherStation)\n",
    "        results = session.exec(statement)\n",
    "        stations = results.all()\n",
    "len(stations)"
   ]
  },
  {
   "cell_type": "markdown",
   "metadata": {},
   "source": [
    "## Test APIs\n",
    "\n",
    " - Davis"
   ]
  },
  {
   "cell_type": "code",
   "execution_count": 4,
   "metadata": {},
   "outputs": [],
   "source": [
    "\n",
    "from ewxpwsdb.weather_apis.weather_api import WeatherAPI, WeatherAPIConfig\n",
    "from ewxpwsdb.weather_apis.davis_api import DavisAPI, DavisAPIConfig"
   ]
  },
  {
   "cell_type": "code",
   "execution_count": 5,
   "metadata": {},
   "outputs": [
    {
     "name": "stdout",
     "output_type": "stream",
     "text": [
      "2024-01-30 22:55:25,468 INFO sqlalchemy.engine.Engine BEGIN (implicit)\n",
      "2024-01-30 22:55:25,470 INFO sqlalchemy.engine.Engine SELECT weatherstation.id, weatherstation.station_code, weatherstation.station_type, weatherstation.install_date, weatherstation.timezone, weatherstation.ewx_user_id, weatherstation.lat, weatherstation.lon, weatherstation.location_description, weatherstation.api_config \n",
      "FROM weatherstation \n",
      "WHERE weatherstation.station_type = %(station_type_1)s\n",
      "2024-01-30 22:55:25,470 INFO sqlalchemy.engine.Engine [generated in 0.00042s] {'station_type_1': 'DAVIS'}\n",
      "<ewxpwsdb.weather_apis.davis_api.DavisAPI object at 0x10984d690>\n",
      "2024-01-30 22:55:25,471 INFO sqlalchemy.engine.Engine ROLLBACK\n"
     ]
    }
   ],
   "source": [
    "# get a davis station\n",
    "session = Session(engine)\n",
    "statement = select(WeatherStation).where(WeatherStation.station_type == \"DAVIS\")\n",
    "results = session.exec(statement)\n",
    "davis_station = results.first()\n",
    "station = DavisAPI(davis_station)\n",
    "print(station)\n",
    "session.close()"
   ]
  },
  {
   "cell_type": "code",
   "execution_count": 6,
   "metadata": {},
   "outputs": [
    {
     "name": "stdout",
     "output_type": "stream",
     "text": [
      "DAVIS\n",
      "15\n",
      "<class 'ewxpwsdb.weather_apis.davis_api.DavisAPIConfig'>\n"
     ]
    }
   ],
   "source": [
    "print(station.station_type)\n",
    "print(station.sampling_interval)\n",
    "print(station.APIConfigClass)"
   ]
  },
  {
   "cell_type": "code",
   "execution_count": 7,
   "metadata": {},
   "outputs": [
    {
     "name": "stdout",
     "output_type": "stream",
     "text": [
      "True\n"
     ]
    }
   ],
   "source": [
    "api_config = station.APIConfigClass.model_validate_json_str(davis_station.api_config)\n",
    "print(api_config == station.api_config)"
   ]
  },
  {
   "cell_type": "code",
   "execution_count": 14,
   "metadata": {},
   "outputs": [],
   "source": [
    "r = station.get_readings()\n"
   ]
  },
  {
   "cell_type": "code",
   "execution_count": 18,
   "metadata": {},
   "outputs": [
    {
     "data": {
      "text/plain": [
       "'{\"code\":\"401\",\"message\":\"API call timestamp parameter \\\\\"t\\\\\" is stale. The timestamp you provide must be within a range that is plus or minus 300 seconds of the API server\\'s internal clock.\"}'"
      ]
     },
     "execution_count": 18,
     "metadata": {},
     "output_type": "execute_result"
    }
   ],
   "source": [
    "r[0].response_text"
   ]
  },
  {
   "cell_type": "code",
   "execution_count": 12,
   "metadata": {},
   "outputs": [
    {
     "data": {
      "text/plain": [
       "[]"
      ]
     },
     "execution_count": 12,
     "metadata": {},
     "output_type": "execute_result"
    }
   ],
   "source": [
    "\n",
    "readings = station.transform(r)\n",
    "readings"
   ]
  },
  {
   "cell_type": "markdown",
   "metadata": {},
   "source": [
    "## Clean up\n",
    "\n",
    "remove test databases"
   ]
  },
  {
   "cell_type": "code",
   "execution_count": null,
   "metadata": {},
   "outputs": [],
   "source": [
    "# if sqlite\n",
    "import re\n",
    "if re.match('sqlite', get_db_url()):\n",
    "    from os import remove\n",
    "    remove('ewxpws.db')"
   ]
  },
  {
   "cell_type": "code",
   "execution_count": null,
   "metadata": {},
   "outputs": [],
   "source": [
    "# if postgresl\n",
    "import re\n",
    "from sqlmodel import delete, text\n",
    "drop_stmt = text(\"\"\"drop database ewxpws\"\"\")\n",
    "\n",
    "if re.match('postgres', get_db_url()):\n",
    "    with Session(engine) as session:\n",
    "        session.exec(delete(Reading))\n",
    "        session.exec(delete(StationType))\n",
    "        session.exec(delete(WeatherStation))\n",
    "        session.commit()\n",
    "\n",
    "    # con = engine.connect()\n",
    "    # con.execute(drop_stmt)\n",
    "    # con.close()\n"
   ]
  },
  {
   "cell_type": "code",
   "execution_count": null,
   "metadata": {},
   "outputs": [],
   "source": [
    "session.close()\n",
    "engine.dispose()"
   ]
  }
 ],
 "metadata": {
  "kernelspec": {
   "display_name": "ewxpwsdb-Ylvp0c_2-py3.11",
   "language": "python",
   "name": "python3"
  },
  "language_info": {
   "codemirror_mode": {
    "name": "ipython",
    "version": 3
   },
   "file_extension": ".py",
   "mimetype": "text/x-python",
   "name": "python",
   "nbconvert_exporter": "python",
   "pygments_lexer": "ipython3",
   "version": "3.11.7"
  }
 },
 "nbformat": 4,
 "nbformat_minor": 2
}
