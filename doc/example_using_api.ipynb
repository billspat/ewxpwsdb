{
 "cells": [
  {
   "cell_type": "markdown",
   "metadata": {},
   "source": [
    "## Using API classes to get data and save to db\n",
    "\n",
    "# <span style=\"color:red\">clear all output before saving: db output contains passwords! </span>\n",
    " \n",
    "- importing modules needed\n",
    "- creates a temporary db using .env\n",
    "- creates the API objects for each vendor/station type\n",
    "- pulls data from the vendor API\n"
   ]
  },
  {
   "cell_type": "code",
   "execution_count": null,
   "metadata": {},
   "outputs": [],
   "source": [
    "%load_ext autoreload\n",
    "%autoreload 2"
   ]
  },
  {
   "cell_type": "code",
   "execution_count": null,
   "metadata": {},
   "outputs": [],
   "source": [
    "\n",
    "from ewxpwsdb.db.models import WeatherStation, APIResponse, Reading, StationType\n",
    "from ewxpwsdb.db.importdata import import_station_file, read_station_table"
   ]
  },
  {
   "cell_type": "code",
   "execution_count": null,
   "metadata": {},
   "outputs": [],
   "source": [
    "station_file = '../data/test_stations.tsv'\n",
    "station_type = 'RAINWISE'"
   ]
  },
  {
   "cell_type": "markdown",
   "metadata": {},
   "source": [
    "### create new temp database to work with\n",
    "\n",
    "this notebook does not use the .env file or the get_db_url() function for the app's db, \n",
    "instead it creates a new file to be used for a temporary, empty postgresql database, deleted in the end. \n",
    "this requires postgresql to be installed on your computer and running.  Any version should work. Tested with versions 15 and 16\n",
    "\n",
    "Note as of now the functions used assume that the pg server can be accessed without a password from localhost. \n",
    "\n",
    "On MacOS, https://postgresapp.com is the very fastest way to get started and works in this way. "
   ]
  },
  {
   "cell_type": "code",
   "execution_count": null,
   "metadata": {},
   "outputs": [],
   "source": [
    "# Postgresql temporary URL\n",
    "\n",
    "# note, if you run this twice without running the associated drop function,\n",
    "# there will be an orphaned empty temp database you may have to drop manually because the temp db name will be lost\n",
    "# see the end of this notebook for that function\n",
    "from ewxpwsdb.db.database import create_temp_pg_engine, get_db_url\n",
    "db_url =  get_db_url()  # loads from standard environment, must be a db url with user that has admin privs to create new db\n",
    "engine = create_temp_pg_engine(admin_db_url = db_url)\n",
    "\n",
    "temp_db_url = engine.url\n",
    "temp_db_url.database\n"
   ]
  },
  {
   "cell_type": "code",
   "execution_count": null,
   "metadata": {},
   "outputs": [],
   "source": [
    "\n",
    "# use the newly created temporary database\n",
    "\n",
    "from ewxpwsdb.db.database import Session, init_db\n",
    "from sqlmodel import select\n",
    "init_db(engine, station_tsv_file=station_file)\n"
   ]
  },
  {
   "cell_type": "markdown",
   "metadata": {},
   "source": [
    "\n",
    "## work with db\n",
    "\n",
    "This works for just one station type.  Set the type you'd like to work with here.  See `src/ewxpwsdb/weather_apis/__init__.py` file for the list of currently supported station types.   "
   ]
  },
  {
   "cell_type": "code",
   "execution_count": null,
   "metadata": {},
   "outputs": [],
   "source": [
    "from ewxpwsdb.weather_apis import STATION_TYPE_LIST, API_CLASS_TYPES\n",
    "APIclass = API_CLASS_TYPES[station_type]\n",
    "print(APIclass._sampling_interval)"
   ]
  },
  {
   "cell_type": "markdown",
   "metadata": {},
   "source": [
    "The following function pulls one station of a particular type, the first one it finds"
   ]
  },
  {
   "cell_type": "code",
   "execution_count": null,
   "metadata": {},
   "outputs": [],
   "source": [
    "# conventience function get the first station from the database for a specific type\n",
    "def get_one_station(station_type, engine = engine):\n",
    "    with Session(engine) as session:\n",
    "        statement = select(WeatherStation).where(WeatherStation.station_type == station_type)\n",
    "        results = session.exec(statement)\n",
    "        weather_station = results.first()\n",
    "\n",
    "    return(weather_station)"
   ]
  },
  {
   "cell_type": "markdown",
   "metadata": {},
   "source": [
    "### create station object from database"
   ]
  },
  {
   "cell_type": "code",
   "execution_count": null,
   "metadata": {},
   "outputs": [],
   "source": [
    "station = get_one_station(station_type)\n",
    "station"
   ]
  },
  {
   "cell_type": "markdown",
   "metadata": {},
   "source": [
    " *could create weather station object without database, but then there is no ID Field which then can't be used to create related objects*"
   ]
  },
  {
   "cell_type": "code",
   "execution_count": null,
   "metadata": {},
   "outputs": [],
   "source": [
    "\n",
    "# this is example code to pull a station from a file of stations, and not a database\n",
    "\n",
    "# stations = read_station_table(station_file)\n",
    "# # add code to find the correct one\n",
    "# station_data = list(filter(lambda x: (x['station_type']==station_type), stations))[0]\n",
    "# station = WeatherStation.model_validate(station_data) \n",
    "# station.station_type\n"
   ]
  },
  {
   "cell_type": "markdown",
   "metadata": {},
   "source": [
    "## Test APIs\n"
   ]
  },
  {
   "cell_type": "code",
   "execution_count": null,
   "metadata": {},
   "outputs": [],
   "source": [
    "# create API class from station\n",
    "\n",
    "from ewxpwsdb.weather_apis import API_CLASS_TYPES\n",
    "wapi = API_CLASS_TYPES[station.station_type](station)\n",
    "wapi.station_type"
   ]
  },
  {
   "cell_type": "code",
   "execution_count": null,
   "metadata": {},
   "outputs": [],
   "source": [
    "# demo how the weatherapi interface works\n",
    "\n",
    "print(wapi.station_type)\n",
    "print(wapi.weather_station.id)\n",
    "print(wapi.sampling_interval)\n",
    "print(wapi.APIConfigClass)\n",
    "# check that configuration class is instantiated with same data in database\n",
    "api_config = wapi.APIConfigClass.model_validate_json_str(wapi.weather_station.api_config)\n",
    "print(api_config == wapi.api_config)"
   ]
  },
  {
   "cell_type": "markdown",
   "metadata": {},
   "source": [
    "### API Requests"
   ]
  },
  {
   "cell_type": "code",
   "execution_count": null,
   "metadata": {},
   "outputs": [],
   "source": [
    "# setup the time interval\n",
    "\n",
    "from datetime import timedelta\n",
    "from ewxpwsdb.time_intervals import previous_fourteen_minute_interval, UTCInterval\n",
    "interval = UTCInterval.previous_fifteen_minutes()\n",
    "\n",
    "# this is 1 hour of data, at least 1 hour ago\n",
    "s = interval.start  - timedelta(minutes = 90)\n",
    "e = interval.end  - timedelta(minutes=30)\n",
    "\n",
    "(s,e)\n"
   ]
  },
  {
   "cell_type": "markdown",
   "metadata": {},
   "source": [
    "Get the data from an API request, and save that API_response into the database"
   ]
  },
  {
   "cell_type": "code",
   "execution_count": null,
   "metadata": {},
   "outputs": [],
   "source": [
    "# check that the locomos api is working\n",
    "# this is a special LOCOMOS-only api\n",
    "if station_type == 'LOCOMOS':\n",
    "    print(wapi._get_variables())"
   ]
  },
  {
   "cell_type": "code",
   "execution_count": null,
   "metadata": {},
   "outputs": [],
   "source": [
    "# get a response and check it\n",
    "api_response_records = wapi.get_readings(start_datetime=s, end_datetime=e)\n",
    "from pprint import pprint\n",
    "pprint(api_response_records[0].response_text)"
   ]
  },
  {
   "cell_type": "code",
   "execution_count": null,
   "metadata": {},
   "outputs": [],
   "source": [
    "# confirm there is some data in the response\n",
    "\n",
    "for response_record in api_response_records:\n",
    "    if wapi.data_present_in_response(response_record):\n",
    "        print('data found')\n",
    "\n",
    "import json\n",
    "from pprint import pprint\n",
    "response_data = json.loads(api_response_records[0].response_text)\n",
    "for element in response_data: \n",
    "    print(element)"
   ]
  },
  {
   "cell_type": "markdown",
   "metadata": {},
   "source": [
    "save the api responses from the request in the database, which then assigns and ID number(s)"
   ]
  },
  {
   "cell_type": "code",
   "execution_count": null,
   "metadata": {},
   "outputs": [],
   "source": [
    "session = Session(engine)\n",
    "for response in api_response_records:\n",
    "    session.add(response)\n",
    "    session.commit()\n",
    "\n",
    "# session is still open"
   ]
  },
  {
   "cell_type": "markdown",
   "metadata": {},
   "source": [
    "check that the current records that are inside the weatherapi were assigned a database ID"
   ]
  },
  {
   "cell_type": "code",
   "execution_count": null,
   "metadata": {},
   "outputs": [],
   "source": [
    "resp:APIResponse = wapi._get_readings(s, e, interval=60)"
   ]
  },
  {
   "cell_type": "markdown",
   "metadata": {},
   "source": [
    "### Readings"
   ]
  },
  {
   "cell_type": "code",
   "execution_count": null,
   "metadata": {},
   "outputs": [],
   "source": []
  },
  {
   "cell_type": "markdown",
   "metadata": {},
   "source": [
    "transform/harmonize the response data into sensor values.  This current requires an open session (opened above) to work as the transform is looking for a database ID on the response record(s).    This should be refactored so this is not the case. \n",
    "\n",
    "See the [Collector](../src/ewxpwsdb/collector.py) module for a class that requests, transforms and saves to the db. "
   ]
  },
  {
   "cell_type": "code",
   "execution_count": null,
   "metadata": {},
   "outputs": [],
   "source": [
    "# note this requires a currently open session to create the foreign key.  \n",
    "readings = wapi.transform(api_response_records)\n",
    "readings"
   ]
  },
  {
   "cell_type": "code",
   "execution_count": null,
   "metadata": {},
   "outputs": [],
   "source": [
    "# using the existing session, save the readings to the db\n",
    "for reading in readings:\n",
    "    try:\n",
    "        session.add(reading)\n",
    "        session.commit()\n",
    "    except Exception as e:\n",
    "        print(e)\n",
    "\n"
   ]
  },
  {
   "cell_type": "code",
   "execution_count": null,
   "metadata": {},
   "outputs": [],
   "source": [
    "print(readings[0].id)"
   ]
  },
  {
   "cell_type": "markdown",
   "metadata": {},
   "source": [
    "### Reading Insert procedure\n",
    "\n",
    "what happens when we pull data that we've already inserted?    test our DIY **upsert** method here"
   ]
  },
  {
   "cell_type": "code",
   "execution_count": null,
   "metadata": {},
   "outputs": [],
   "source": [
    "\n",
    "try:\n",
    "    session.close()\n",
    "except Exception as e:\n",
    "    pass\n",
    "\n",
    "with Session(engine) as session:\n",
    "    api_response_record = session.get(APIResponse, 1)\n",
    "\n",
    "x = api_response_record.response_text\n",
    "x"
   ]
  },
  {
   "cell_type": "code",
   "execution_count": null,
   "metadata": {},
   "outputs": [],
   "source": [
    "print(api_response_record.id)\n",
    "print(api_response_record.response_text)\n",
    "readings = wapi.transform([api_response_record])\n",
    "readings\n"
   ]
  },
  {
   "cell_type": "code",
   "execution_count": null,
   "metadata": {},
   "outputs": [],
   "source": [
    "# even though re-inserting data with conflicting constraint, should not error (will just insert anyway)\n",
    "with Session(engine) as session:\n",
    "    session.add(readings[0])\n"
   ]
  },
  {
   "cell_type": "code",
   "execution_count": null,
   "metadata": {},
   "outputs": [],
   "source": [
    "stmt = select(Reading)\n",
    "results = session.exec(stmt)\n",
    "for r in results.all():\n",
    "    print(r)"
   ]
  },
  {
   "cell_type": "markdown",
   "metadata": {},
   "source": [
    "## could we make the above form look more professional?\n",
    "\n",
    "current it takes two function calls to get a response and transform into reading records. \n",
    "\n",
    "Could we do something that looks like this?\n",
    "\n",
    "```readings = wapi.get_readings(s,e).transform()```\n",
    "\n",
    "that looks nice, but requires changing the code  to return self from get_readings \n",
    "\n",
    "*(which may be possible if the outputs from these functions are saved as state in the class)*\n",
    "\n",
    "We could also just create a convenience functions to accomplish the same task: \n",
    "\n",
    "```readings = wapi.get_and_transform_readings(s,e)  ```\n",
    "\n",
    "\n",
    "but we also want to save the responses in a database and link the reading records with the response for auditing to discover mistakes, and this does not all for that, \n",
    "because the readings don't hvae the response database id to create a link with until they are saved in the DB\n",
    "\n",
    "The solution is to use the `Collector` class that has the convenience wrappers and combines API with database functions. \n",
    "\n",
    "see [`example using collector`](example_using_collector.ipynb) notebook\n"
   ]
  },
  {
   "cell_type": "markdown",
   "metadata": {},
   "source": [
    "check that these data can be turned into a Reading object (data + metadata )"
   ]
  },
  {
   "cell_type": "markdown",
   "metadata": {},
   "source": [
    "save the rows of data from the sensor into the database using a Session"
   ]
  },
  {
   "cell_type": "code",
   "execution_count": null,
   "metadata": {},
   "outputs": [],
   "source": [
    "# readings from transform...\n",
    "for reading in readings:\n",
    "    session.add(reading)    \n",
    "session.commit()\n",
    "# does it have an id now?\n",
    "readings[0].id    "
   ]
  },
  {
   "cell_type": "code",
   "execution_count": null,
   "metadata": {},
   "outputs": [],
   "source": [
    "\n",
    "print(readings[0].id )"
   ]
  },
  {
   "cell_type": "markdown",
   "metadata": {},
   "source": [
    "## Getting data back from the database\n",
    "\n",
    "the Collector class is great but it has the intenial side of effect of inserting records.   Create new classes that wrap the SQLModels with functionality\n",
    "\n",
    "this seems redundant but it allows the combination of a database engine and sqlmodels in the top level of the project, and hence the model module does not require database connection. \n",
    "\n",
    "- **Station**: additional functionality around the station class and WeatherAPI class which also contains some metadata.   \n",
    "- **StationReadings**: class that combines stations and readings as readings are almost always used in a station context"
   ]
  },
  {
   "cell_type": "code",
   "execution_count": null,
   "metadata": {},
   "outputs": [],
   "source": [
    "# check we still have a station and engine\n",
    "print(station)\n",
    "print(isinstance(station, WeatherStation))\n",
    "print(f\"active engine: {engine}\")\n"
   ]
  },
  {
   "cell_type": "code",
   "execution_count": null,
   "metadata": {},
   "outputs": [],
   "source": [
    "\n",
    "# summarize readings in the database\n",
    "\n",
    "from ewxpwsdb.station_readings import StationReadings\n",
    "from ewxpwsdb.station import Station\n",
    "\n",
    "station_readings = StationReadings(station = station, engine = engine)\n",
    "print(f\"does this station have readings? {station_readings.has_readings()}\")\n",
    "print(f\"date of first reading {station_readings.first_reading_date()}\")\n",
    "print(\"most recent readings in db:\")\n",
    "\n",
    "readings = station_readings.recent_readings()\n",
    "print(readings)\n",
    "\n",
    "\n"
   ]
  },
  {
   "cell_type": "code",
   "execution_count": null,
   "metadata": {},
   "outputs": [],
   "source": [
    "\n",
    "# method for pulling readings without the station class\n",
    "\n",
    "# with Session(engine) as session:\n",
    "#     stmt = select(Reading, WeatherStation).join(WeatherStation).where(WeatherStation.id  == station.id)\n",
    "#     # results = session.exec(stmt)\n",
    "#     reading_records = session.exec(stmt).all()\n",
    "#     for reading_records in reading_records:\n",
    "#         reading = reading_records.Reading\n",
    "#         print(f\"{reading.data_datetime}: air temp {reading.atmp}C\")"
   ]
  },
  {
   "cell_type": "code",
   "execution_count": null,
   "metadata": {},
   "outputs": [],
   "source": [
    "# get more data\n",
    "# note that the 'session' must be present for the whole transaction of response and readings for\n",
    "responses = wapi.get_readings()\n",
    "session = Session(engine)\n",
    "for response in responses:\n",
    "    session.add(response)\n",
    "    session.commit()\n",
    "\n",
    "responses[0].id\n",
    "    \n",
    "responses[0]"
   ]
  },
  {
   "cell_type": "code",
   "execution_count": null,
   "metadata": {},
   "outputs": [],
   "source": [
    "stmt = select(APIResponse).where(APIResponse.request_id == wapi.current_api_response_records[0].request_id)\n",
    "result = session.exec(stmt)\n",
    "some_apiresponse = result.first()\n",
    "print(some_apiresponse.id)"
   ]
  },
  {
   "cell_type": "markdown",
   "metadata": {},
   "source": [
    "## Clean up \n",
    "\n",
    "If using databases, remove test databases"
   ]
  },
  {
   "cell_type": "code",
   "execution_count": null,
   "metadata": {},
   "outputs": [],
   "source": [
    "# if postgresl (the drop function detects if it's a postgres engine)\n",
    "\n",
    "\n",
    "from ewxpwsdb.db.database import list_pg_databases, drop_pg_db\n",
    "from sqlalchemy.orm import close_all_sessions\n",
    "\n",
    "tmp_db_name = engine.url.database\n",
    "print(f\"attempting to drop db {tmp_db_name}\")\n",
    "close_all_sessions()\n",
    "engine.dispose()\n",
    "result = drop_pg_db(tmp_db_name, db_url)\n",
    "print(result)\n",
    "print('remaining databases')\n",
    "print(list_pg_databases(db_url))\n"
   ]
  }
 ],
 "metadata": {
  "kernelspec": {
   "display_name": "ewxpwsdb-Ylvp0c_2-py3.11",
   "language": "python",
   "name": "python3"
  },
  "language_info": {
   "codemirror_mode": {
    "name": "ipython",
    "version": 3
   },
   "file_extension": ".py",
   "mimetype": "text/x-python",
   "name": "python",
   "nbconvert_exporter": "python",
   "pygments_lexer": "ipython3",
   "version": "3.11.7"
  }
 },
 "nbformat": 4,
 "nbformat_minor": 2
}
