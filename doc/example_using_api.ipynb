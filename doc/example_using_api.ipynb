{
 "cells": [
  {
   "cell_type": "markdown",
   "metadata": {},
   "source": [
    "## Using API classes to get data and save to db\n",
    "\n",
    "# <span style=\"color:red\">clear all output before saving: db output contains passwords! </span>\n",
    " \n",
    "- importing modules needed\n",
    "- creates a temporary db using .env\n",
    "- creates the API objects for each vendor/station type\n",
    "- pulls data from the vendor API\n"
   ]
  },
  {
   "cell_type": "code",
   "execution_count": null,
   "metadata": {},
   "outputs": [],
   "source": [
    "%load_ext autoreload\n",
    "%autoreload 2\n",
    "\n",
    "from ewxpwsdb.db.models import WeatherStation, Reading, StationType\n",
    "from ewxpwsdb.db.importdata import import_station_file, read_station_table\n",
    "station_file = '../data/test_stations.tsv'"
   ]
  },
  {
   "cell_type": "markdown",
   "metadata": {},
   "source": [
    "### optional: create new temp database to work with"
   ]
  },
  {
   "cell_type": "code",
   "execution_count": null,
   "metadata": {},
   "outputs": [],
   "source": [
    "\n",
    "from ewxpwsdb.db.database import Session, init_db, get_db_url, get_engine\n",
    "from sqlmodel import select, delete\n",
    "\n",
    "db_url = get_db_url()\n",
    "print(db_url)\n",
    "engine = get_engine(db_url)\n",
    "init_db(engine)\n",
    "\n",
    "# import, using the global 'engine' defined in database module\n",
    "import_station_file(station_file)"
   ]
  },
  {
   "cell_type": "markdown",
   "metadata": {},
   "source": [
    "## Create WeatherStation object"
   ]
  },
  {
   "cell_type": "code",
   "execution_count": null,
   "metadata": {},
   "outputs": [],
   "source": [
    "# get the first station from the database for a specific type\n",
    "def get_one_station(station_type):\n",
    "\n",
    "    \n",
    "    with Session(engine) as session:\n",
    "        statement = select(WeatherStation).where(WeatherStation.station_type == station_type)\n",
    "        results = session.exec(statement)\n",
    "        weather_station = results.first()\n",
    "\n",
    "    return(weather_station)\n",
    "\n",
    "\n",
    "\n",
    "    \n"
   ]
  },
  {
   "cell_type": "code",
   "execution_count": null,
   "metadata": {},
   "outputs": [],
   "source": [
    "station_type = 'SPECTRUM'"
   ]
  },
  {
   "cell_type": "markdown",
   "metadata": {},
   "source": [
    "### create station object from database"
   ]
  },
  {
   "cell_type": "code",
   "execution_count": null,
   "metadata": {},
   "outputs": [],
   "source": [
    "station = get_one_station(station_type)\n",
    "station.station_type"
   ]
  },
  {
   "cell_type": "markdown",
   "metadata": {},
   "source": [
    "### OR create weather station object without database"
   ]
  },
  {
   "cell_type": "code",
   "execution_count": null,
   "metadata": {},
   "outputs": [],
   "source": [
    "stations = read_station_table(station_file)\n",
    "# add code to find the correct one\n",
    "station_data = list(filter(lambda x: (x['station_type']==station_type), stations))[0]\n",
    "station = WeatherStation.model_validate(station_data) \n",
    "station.station_type\n"
   ]
  },
  {
   "cell_type": "markdown",
   "metadata": {},
   "source": [
    "## Test APIs\n"
   ]
  },
  {
   "cell_type": "code",
   "execution_count": null,
   "metadata": {},
   "outputs": [],
   "source": [
    "# create API class from data file\n",
    "from ewxpwsdb.weather_apis import API_CLASS_TYPES\n",
    "wapi = API_CLASS_TYPES[station.station_type](station)\n",
    "wapi.station_type"
   ]
  },
  {
   "cell_type": "code",
   "execution_count": null,
   "metadata": {},
   "outputs": [],
   "source": [
    "print(wapi.station_type)\n",
    "print(wapi.sampling_interval)\n",
    "print(wapi.APIConfigClass)"
   ]
  },
  {
   "cell_type": "code",
   "execution_count": null,
   "metadata": {},
   "outputs": [],
   "source": [
    "# check that configuration class is instantiated with same data in database\n",
    "api_config = wapi.APIConfigClass.model_validate_json_str(wapi.weather_station.api_config)\n",
    "print(api_config == wapi.api_config)"
   ]
  },
  {
   "cell_type": "code",
   "execution_count": null,
   "metadata": {},
   "outputs": [],
   "source": [
    "r = wapi.get_readings()\n"
   ]
  },
  {
   "cell_type": "code",
   "execution_count": null,
   "metadata": {},
   "outputs": [],
   "source": [
    "r[0].response_text"
   ]
  },
  {
   "cell_type": "code",
   "execution_count": null,
   "metadata": {},
   "outputs": [],
   "source": [
    "\n",
    "readings = wapi.transform(r)\n",
    "readings\n"
   ]
  },
  {
   "cell_type": "code",
   "execution_count": null,
   "metadata": {},
   "outputs": [],
   "source": [
    "isinstance(readings, list)"
   ]
  },
  {
   "cell_type": "markdown",
   "metadata": {},
   "source": [
    "## Clean up \n",
    "\n",
    "If using databases, remove test databases"
   ]
  },
  {
   "cell_type": "code",
   "execution_count": null,
   "metadata": {},
   "outputs": [],
   "source": [
    "# if sqlite\n",
    "import re\n",
    "if re.match('sqlite', get_db_url()):\n",
    "    from os import remove\n",
    "    remove('ewxpws.db')"
   ]
  },
  {
   "cell_type": "code",
   "execution_count": null,
   "metadata": {},
   "outputs": [],
   "source": [
    "# if postgresl\n",
    "import re\n",
    "from sqlmodel import delete, text\n",
    "drop_stmt = text(\"\"\"drop database ewxpws\"\"\")\n",
    "\n",
    "if re.match('postgres', get_db_url()):\n",
    "    with Session(engine) as session:\n",
    "        session.exec(delete(Reading))\n",
    "        session.exec(delete(StationType))\n",
    "        session.exec(delete(WeatherStation))\n",
    "        session.commit()\n",
    "\n",
    "    # con = engine.connect()\n",
    "    # con.execute(drop_stmt)\n",
    "    # con.close()\n"
   ]
  },
  {
   "cell_type": "code",
   "execution_count": null,
   "metadata": {},
   "outputs": [],
   "source": [
    "session.close()\n",
    "engine.dispose()"
   ]
  }
 ],
 "metadata": {
  "kernelspec": {
   "display_name": "ewxpwsdb-Ylvp0c_2-py3.11",
   "language": "python",
   "name": "python3"
  },
  "language_info": {
   "codemirror_mode": {
    "name": "ipython",
    "version": 3
   },
   "file_extension": ".py",
   "mimetype": "text/x-python",
   "name": "python",
   "nbconvert_exporter": "python",
   "pygments_lexer": "ipython3",
   "version": "3.11.7"
  }
 },
 "nbformat": 4,
 "nbformat_minor": 2
}
